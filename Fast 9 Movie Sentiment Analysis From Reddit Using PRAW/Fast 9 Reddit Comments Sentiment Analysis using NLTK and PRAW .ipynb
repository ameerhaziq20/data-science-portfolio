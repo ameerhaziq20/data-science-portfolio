{
 "cells": [
  {
   "cell_type": "markdown",
   "id": "13350f06",
   "metadata": {},
   "source": [
    "# Obtain Reddit Comments"
   ]
  },
  {
   "cell_type": "code",
   "execution_count": 114,
   "id": "740b7057",
   "metadata": {},
   "outputs": [],
   "source": [
    "import praw\n",
    "import pandas as pd\n",
    "import datetime as dt "
   ]
  },
  {
   "cell_type": "markdown",
   "id": "7c46a2ea",
   "metadata": {},
   "source": [
    "## Create Instance of Reddit"
   ]
  },
  {
   "cell_type": "code",
   "execution_count": 115,
   "id": "b2575e80",
   "metadata": {},
   "outputs": [],
   "source": [
    "reddit = praw.Reddit(\n",
    "    user_agent=\"Comment Extraction (by u/USERNAME)\",\n",
    "    client_id=\"****\",\n",
    "    client_secret=\"****\",\n",
    "    username=\"****\",\n",
    "    password=\"****\",\n",
    ")"
   ]
  },
  {
   "cell_type": "markdown",
   "id": "efaac5a2",
   "metadata": {},
   "source": [
    "## Link to Reddit Post"
   ]
  },
  {
   "cell_type": "code",
   "execution_count": 116,
   "id": "1f05c4a2",
   "metadata": {},
   "outputs": [],
   "source": [
    "url = \"https://www.reddit.com/r/movies/comments/o7e258/official_discussion_f9_the_fast_saga_spoilers/\"\n",
    "submission = reddit.submission(url=url)"
   ]
  },
  {
   "cell_type": "markdown",
   "id": "98262fde",
   "metadata": {},
   "source": [
    "## Parsing the comments"
   ]
  },
  {
   "cell_type": "code",
   "execution_count": 117,
   "id": "55ebf955",
   "metadata": {},
   "outputs": [],
   "source": [
    "from praw.models import MoreComments\n",
    "from datetime import datetime\n",
    "\n",
    "# Create temporary list to hold the comments data.\n",
    "list_comments=[]\n",
    "list_time=[]\n",
    "\n",
    "# Store in a dictionary.\n",
    "dict_collect = {'comments':list_comments,\n",
    "                'time': list_time,\n",
    "               }\n",
    "\n",
    "# Loop through each top level comment.\n",
    "for top_level_comment in submission.comments:\n",
    "    if isinstance(top_level_comment, MoreComments):\n",
    "        continue\n",
    "    # Append comment to list\n",
    "    list_comments.append(top_level_comment.body)\n",
    "    \n",
    "    # Convert and append time to list\n",
    "    time = (datetime.utcfromtimestamp(top_level_comment.created_utc).strftime('%Y-%m-%d %H:%M:%S'))\n",
    "    list_time.append(time)"
   ]
  },
  {
   "cell_type": "markdown",
   "id": "fdca1a91",
   "metadata": {},
   "source": [
    "## Convert to DataFrame"
   ]
  },
  {
   "cell_type": "code",
   "execution_count": 118,
   "id": "752f9e58",
   "metadata": {
    "scrolled": true
   },
   "outputs": [
    {
     "data": {
      "text/html": [
       "<div>\n",
       "<style scoped>\n",
       "    .dataframe tbody tr th:only-of-type {\n",
       "        vertical-align: middle;\n",
       "    }\n",
       "\n",
       "    .dataframe tbody tr th {\n",
       "        vertical-align: top;\n",
       "    }\n",
       "\n",
       "    .dataframe thead th {\n",
       "        text-align: right;\n",
       "    }\n",
       "</style>\n",
       "<table border=\"1\" class=\"dataframe\">\n",
       "  <thead>\n",
       "    <tr style=\"text-align: right;\">\n",
       "      <th></th>\n",
       "      <th>comments</th>\n",
       "      <th>time</th>\n",
       "    </tr>\n",
       "  </thead>\n",
       "  <tbody>\n",
       "    <tr>\n",
       "      <th>0</th>\n",
       "      <td>If you’re ever falling to your death try land ...</td>\n",
       "      <td>2021-06-25 02:24:48</td>\n",
       "    </tr>\n",
       "    <tr>\n",
       "      <th>1</th>\n",
       "      <td>Hellen Mirren saying John Cena and Vin Diesel ...</td>\n",
       "      <td>2021-06-25 06:23:22</td>\n",
       "    </tr>\n",
       "    <tr>\n",
       "      <th>2</th>\n",
       "      <td>I think the most intimidating villain in the m...</td>\n",
       "      <td>2021-06-25 04:46:46</td>\n",
       "    </tr>\n",
       "    <tr>\n",
       "      <th>3</th>\n",
       "      <td>Tez: we'll be alright as long as we obey the l...</td>\n",
       "      <td>2021-06-25 02:46:44</td>\n",
       "    </tr>\n",
       "    <tr>\n",
       "      <th>4</th>\n",
       "      <td>I wish Dom would interact more with the rest o...</td>\n",
       "      <td>2021-06-25 02:29:29</td>\n",
       "    </tr>\n",
       "    <tr>\n",
       "      <th>...</th>\n",
       "      <td>...</td>\n",
       "      <td>...</td>\n",
       "    </tr>\n",
       "    <tr>\n",
       "      <th>95</th>\n",
       "      <td>F10&amp;11 are gonna get the Infinity War/Endgame ...</td>\n",
       "      <td>2021-06-26 10:42:18</td>\n",
       "    </tr>\n",
       "    <tr>\n",
       "      <th>96</th>\n",
       "      <td>I got many problems with the plot. Doms brothe...</td>\n",
       "      <td>2021-07-04 20:50:01</td>\n",
       "    </tr>\n",
       "    <tr>\n",
       "      <th>97</th>\n",
       "      <td>They did my dude Sean the Tokyo Drifter dirty....</td>\n",
       "      <td>2021-07-29 21:03:51</td>\n",
       "    </tr>\n",
       "    <tr>\n",
       "      <th>98</th>\n",
       "      <td>I have a nephew who is eight and loves cars bu...</td>\n",
       "      <td>2021-07-16 06:26:07</td>\n",
       "    </tr>\n",
       "    <tr>\n",
       "      <th>99</th>\n",
       "      <td>That Toretto Nordic blood</td>\n",
       "      <td>2021-06-26 04:02:12</td>\n",
       "    </tr>\n",
       "  </tbody>\n",
       "</table>\n",
       "<p>100 rows × 2 columns</p>\n",
       "</div>"
      ],
      "text/plain": [
       "                                             comments                 time\n",
       "0   If you’re ever falling to your death try land ...  2021-06-25 02:24:48\n",
       "1   Hellen Mirren saying John Cena and Vin Diesel ...  2021-06-25 06:23:22\n",
       "2   I think the most intimidating villain in the m...  2021-06-25 04:46:46\n",
       "3   Tez: we'll be alright as long as we obey the l...  2021-06-25 02:46:44\n",
       "4   I wish Dom would interact more with the rest o...  2021-06-25 02:29:29\n",
       "..                                                ...                  ...\n",
       "95  F10&11 are gonna get the Infinity War/Endgame ...  2021-06-26 10:42:18\n",
       "96  I got many problems with the plot. Doms brothe...  2021-07-04 20:50:01\n",
       "97  They did my dude Sean the Tokyo Drifter dirty....  2021-07-29 21:03:51\n",
       "98  I have a nephew who is eight and loves cars bu...  2021-07-16 06:26:07\n",
       "99                          That Toretto Nordic blood  2021-06-26 04:02:12\n",
       "\n",
       "[100 rows x 2 columns]"
      ]
     },
     "execution_count": 118,
     "metadata": {},
     "output_type": "execute_result"
    }
   ],
   "source": [
    "df = pd.DataFrame.from_dict(dict_collect)\n",
    "df"
   ]
  },
  {
   "cell_type": "code",
   "execution_count": 119,
   "id": "be617ee9",
   "metadata": {},
   "outputs": [],
   "source": [
    "df.to_csv('dataset/fast_9_review.csv',index = False)"
   ]
  },
  {
   "cell_type": "markdown",
   "id": "97c009d8",
   "metadata": {},
   "source": [
    "# EDA\n",
    "Let's take a look at our gathered comments about Fast 9 from the posts."
   ]
  },
  {
   "cell_type": "markdown",
   "id": "1bf27089",
   "metadata": {},
   "source": [
    "## Word count"
   ]
  },
  {
   "cell_type": "code",
   "execution_count": 120,
   "id": "66e665ac",
   "metadata": {},
   "outputs": [],
   "source": [
    "eda = pd.read_csv('dataset/fast_9_review.csv')"
   ]
  },
  {
   "cell_type": "code",
   "execution_count": 121,
   "id": "6ec1c23c",
   "metadata": {},
   "outputs": [
    {
     "data": {
      "text/html": [
       "<div>\n",
       "<style scoped>\n",
       "    .dataframe tbody tr th:only-of-type {\n",
       "        vertical-align: middle;\n",
       "    }\n",
       "\n",
       "    .dataframe tbody tr th {\n",
       "        vertical-align: top;\n",
       "    }\n",
       "\n",
       "    .dataframe thead th {\n",
       "        text-align: right;\n",
       "    }\n",
       "</style>\n",
       "<table border=\"1\" class=\"dataframe\">\n",
       "  <thead>\n",
       "    <tr style=\"text-align: right;\">\n",
       "      <th></th>\n",
       "      <th>comments</th>\n",
       "      <th>time</th>\n",
       "    </tr>\n",
       "  </thead>\n",
       "  <tbody>\n",
       "    <tr>\n",
       "      <th>0</th>\n",
       "      <td>If you’re ever falling to your death try land ...</td>\n",
       "      <td>2021-06-25 02:24:48</td>\n",
       "    </tr>\n",
       "    <tr>\n",
       "      <th>1</th>\n",
       "      <td>Hellen Mirren saying John Cena and Vin Diesel ...</td>\n",
       "      <td>2021-06-25 06:23:22</td>\n",
       "    </tr>\n",
       "    <tr>\n",
       "      <th>2</th>\n",
       "      <td>I think the most intimidating villain in the m...</td>\n",
       "      <td>2021-06-25 04:46:46</td>\n",
       "    </tr>\n",
       "    <tr>\n",
       "      <th>3</th>\n",
       "      <td>Tez: we'll be alright as long as we obey the l...</td>\n",
       "      <td>2021-06-25 02:46:44</td>\n",
       "    </tr>\n",
       "    <tr>\n",
       "      <th>4</th>\n",
       "      <td>I wish Dom would interact more with the rest o...</td>\n",
       "      <td>2021-06-25 02:29:29</td>\n",
       "    </tr>\n",
       "  </tbody>\n",
       "</table>\n",
       "</div>"
      ],
      "text/plain": [
       "                                            comments                 time\n",
       "0  If you’re ever falling to your death try land ...  2021-06-25 02:24:48\n",
       "1  Hellen Mirren saying John Cena and Vin Diesel ...  2021-06-25 06:23:22\n",
       "2  I think the most intimidating villain in the m...  2021-06-25 04:46:46\n",
       "3  Tez: we'll be alright as long as we obey the l...  2021-06-25 02:46:44\n",
       "4  I wish Dom would interact more with the rest o...  2021-06-25 02:29:29"
      ]
     },
     "execution_count": 121,
     "metadata": {},
     "output_type": "execute_result"
    }
   ],
   "source": [
    "eda.head()"
   ]
  },
  {
   "cell_type": "code",
   "execution_count": 122,
   "id": "4395a531",
   "metadata": {},
   "outputs": [],
   "source": [
    "eda['word_count'] = eda['comments'].apply(lambda x: len(str(x).split(\" \")))"
   ]
  },
  {
   "cell_type": "code",
   "execution_count": 123,
   "id": "704d6803",
   "metadata": {},
   "outputs": [
    {
     "data": {
      "text/html": [
       "<div>\n",
       "<style scoped>\n",
       "    .dataframe tbody tr th:only-of-type {\n",
       "        vertical-align: middle;\n",
       "    }\n",
       "\n",
       "    .dataframe tbody tr th {\n",
       "        vertical-align: top;\n",
       "    }\n",
       "\n",
       "    .dataframe thead th {\n",
       "        text-align: right;\n",
       "    }\n",
       "</style>\n",
       "<table border=\"1\" class=\"dataframe\">\n",
       "  <thead>\n",
       "    <tr style=\"text-align: right;\">\n",
       "      <th></th>\n",
       "      <th>comments</th>\n",
       "      <th>time</th>\n",
       "      <th>word_count</th>\n",
       "    </tr>\n",
       "  </thead>\n",
       "  <tbody>\n",
       "    <tr>\n",
       "      <th>0</th>\n",
       "      <td>If you’re ever falling to your death try land ...</td>\n",
       "      <td>2021-06-25 02:24:48</td>\n",
       "      <td>22</td>\n",
       "    </tr>\n",
       "    <tr>\n",
       "      <th>1</th>\n",
       "      <td>Hellen Mirren saying John Cena and Vin Diesel ...</td>\n",
       "      <td>2021-06-25 06:23:22</td>\n",
       "      <td>22</td>\n",
       "    </tr>\n",
       "    <tr>\n",
       "      <th>2</th>\n",
       "      <td>I think the most intimidating villain in the m...</td>\n",
       "      <td>2021-06-25 04:46:46</td>\n",
       "      <td>14</td>\n",
       "    </tr>\n",
       "    <tr>\n",
       "      <th>3</th>\n",
       "      <td>Tez: we'll be alright as long as we obey the l...</td>\n",
       "      <td>2021-06-25 02:46:44</td>\n",
       "      <td>19</td>\n",
       "    </tr>\n",
       "    <tr>\n",
       "      <th>4</th>\n",
       "      <td>I wish Dom would interact more with the rest o...</td>\n",
       "      <td>2021-06-25 02:29:29</td>\n",
       "      <td>28</td>\n",
       "    </tr>\n",
       "  </tbody>\n",
       "</table>\n",
       "</div>"
      ],
      "text/plain": [
       "                                            comments                 time  \\\n",
       "0  If you’re ever falling to your death try land ...  2021-06-25 02:24:48   \n",
       "1  Hellen Mirren saying John Cena and Vin Diesel ...  2021-06-25 06:23:22   \n",
       "2  I think the most intimidating villain in the m...  2021-06-25 04:46:46   \n",
       "3  Tez: we'll be alright as long as we obey the l...  2021-06-25 02:46:44   \n",
       "4  I wish Dom would interact more with the rest o...  2021-06-25 02:29:29   \n",
       "\n",
       "   word_count  \n",
       "0          22  \n",
       "1          22  \n",
       "2          14  \n",
       "3          19  \n",
       "4          28  "
      ]
     },
     "execution_count": 123,
     "metadata": {},
     "output_type": "execute_result"
    }
   ],
   "source": [
    "eda.head()"
   ]
  },
  {
   "cell_type": "code",
   "execution_count": 124,
   "id": "1694985e",
   "metadata": {},
   "outputs": [
    {
     "name": "stdout",
     "output_type": "stream",
     "text": [
      "Average Word count: 46 words\n"
     ]
    }
   ],
   "source": [
    "print('Average Word count: '+str(int(eda['word_count'].mean()))+ ' words')"
   ]
  },
  {
   "cell_type": "markdown",
   "id": "db291b20",
   "metadata": {},
   "source": [
    "## Average word lenght"
   ]
  },
  {
   "cell_type": "code",
   "execution_count": 125,
   "id": "d3f158a2",
   "metadata": {},
   "outputs": [],
   "source": [
    "def avg_word(comments):\n",
    "  words = comments.split()\n",
    "  return int((sum(len(word) for word in words) / len(words)))\n",
    "\n",
    "# Calculate average words\n",
    "eda['avg_word_len'] = eda['comments'].apply(lambda x: avg_word(x))"
   ]
  },
  {
   "cell_type": "code",
   "execution_count": 126,
   "id": "e7ac6d8c",
   "metadata": {},
   "outputs": [
    {
     "data": {
      "text/html": [
       "<div>\n",
       "<style scoped>\n",
       "    .dataframe tbody tr th:only-of-type {\n",
       "        vertical-align: middle;\n",
       "    }\n",
       "\n",
       "    .dataframe tbody tr th {\n",
       "        vertical-align: top;\n",
       "    }\n",
       "\n",
       "    .dataframe thead th {\n",
       "        text-align: right;\n",
       "    }\n",
       "</style>\n",
       "<table border=\"1\" class=\"dataframe\">\n",
       "  <thead>\n",
       "    <tr style=\"text-align: right;\">\n",
       "      <th></th>\n",
       "      <th>comments</th>\n",
       "      <th>time</th>\n",
       "      <th>word_count</th>\n",
       "      <th>avg_word_len</th>\n",
       "    </tr>\n",
       "  </thead>\n",
       "  <tbody>\n",
       "    <tr>\n",
       "      <th>0</th>\n",
       "      <td>If you’re ever falling to your death try land ...</td>\n",
       "      <td>2021-06-25 02:24:48</td>\n",
       "      <td>22</td>\n",
       "      <td>4</td>\n",
       "    </tr>\n",
       "    <tr>\n",
       "      <th>1</th>\n",
       "      <td>Hellen Mirren saying John Cena and Vin Diesel ...</td>\n",
       "      <td>2021-06-25 06:23:22</td>\n",
       "      <td>22</td>\n",
       "      <td>4</td>\n",
       "    </tr>\n",
       "    <tr>\n",
       "      <th>2</th>\n",
       "      <td>I think the most intimidating villain in the m...</td>\n",
       "      <td>2021-06-25 04:46:46</td>\n",
       "      <td>14</td>\n",
       "      <td>4</td>\n",
       "    </tr>\n",
       "    <tr>\n",
       "      <th>3</th>\n",
       "      <td>Tez: we'll be alright as long as we obey the l...</td>\n",
       "      <td>2021-06-25 02:46:44</td>\n",
       "      <td>19</td>\n",
       "      <td>3</td>\n",
       "    </tr>\n",
       "    <tr>\n",
       "      <th>4</th>\n",
       "      <td>I wish Dom would interact more with the rest o...</td>\n",
       "      <td>2021-06-25 02:29:29</td>\n",
       "      <td>28</td>\n",
       "      <td>3</td>\n",
       "    </tr>\n",
       "  </tbody>\n",
       "</table>\n",
       "</div>"
      ],
      "text/plain": [
       "                                            comments                 time  \\\n",
       "0  If you’re ever falling to your death try land ...  2021-06-25 02:24:48   \n",
       "1  Hellen Mirren saying John Cena and Vin Diesel ...  2021-06-25 06:23:22   \n",
       "2  I think the most intimidating villain in the m...  2021-06-25 04:46:46   \n",
       "3  Tez: we'll be alright as long as we obey the l...  2021-06-25 02:46:44   \n",
       "4  I wish Dom would interact more with the rest o...  2021-06-25 02:29:29   \n",
       "\n",
       "   word_count  avg_word_len  \n",
       "0          22             4  \n",
       "1          22             4  \n",
       "2          14             4  \n",
       "3          19             3  \n",
       "4          28             3  "
      ]
     },
     "execution_count": 126,
     "metadata": {},
     "output_type": "execute_result"
    }
   ],
   "source": [
    "eda.head()"
   ]
  },
  {
   "cell_type": "markdown",
   "id": "dab1c930",
   "metadata": {},
   "source": [
    "## Character count"
   ]
  },
  {
   "cell_type": "code",
   "execution_count": 127,
   "id": "395df7e1",
   "metadata": {},
   "outputs": [],
   "source": [
    "eda['char_count'] = eda['comments'].str.len()"
   ]
  },
  {
   "cell_type": "code",
   "execution_count": 128,
   "id": "c5f3aa6d",
   "metadata": {
    "scrolled": true
   },
   "outputs": [
    {
     "data": {
      "text/html": [
       "<div>\n",
       "<style scoped>\n",
       "    .dataframe tbody tr th:only-of-type {\n",
       "        vertical-align: middle;\n",
       "    }\n",
       "\n",
       "    .dataframe tbody tr th {\n",
       "        vertical-align: top;\n",
       "    }\n",
       "\n",
       "    .dataframe thead th {\n",
       "        text-align: right;\n",
       "    }\n",
       "</style>\n",
       "<table border=\"1\" class=\"dataframe\">\n",
       "  <thead>\n",
       "    <tr style=\"text-align: right;\">\n",
       "      <th></th>\n",
       "      <th>comments</th>\n",
       "      <th>time</th>\n",
       "      <th>word_count</th>\n",
       "      <th>avg_word_len</th>\n",
       "      <th>char_count</th>\n",
       "    </tr>\n",
       "  </thead>\n",
       "  <tbody>\n",
       "    <tr>\n",
       "      <th>0</th>\n",
       "      <td>If you’re ever falling to your death try land ...</td>\n",
       "      <td>2021-06-25 02:24:48</td>\n",
       "      <td>22</td>\n",
       "      <td>4</td>\n",
       "      <td>111</td>\n",
       "    </tr>\n",
       "    <tr>\n",
       "      <th>1</th>\n",
       "      <td>Hellen Mirren saying John Cena and Vin Diesel ...</td>\n",
       "      <td>2021-06-25 06:23:22</td>\n",
       "      <td>22</td>\n",
       "      <td>4</td>\n",
       "      <td>126</td>\n",
       "    </tr>\n",
       "    <tr>\n",
       "      <th>2</th>\n",
       "      <td>I think the most intimidating villain in the m...</td>\n",
       "      <td>2021-06-25 04:46:46</td>\n",
       "      <td>14</td>\n",
       "      <td>4</td>\n",
       "      <td>81</td>\n",
       "    </tr>\n",
       "    <tr>\n",
       "      <th>3</th>\n",
       "      <td>Tez: we'll be alright as long as we obey the l...</td>\n",
       "      <td>2021-06-25 02:46:44</td>\n",
       "      <td>19</td>\n",
       "      <td>3</td>\n",
       "      <td>98</td>\n",
       "    </tr>\n",
       "    <tr>\n",
       "      <th>4</th>\n",
       "      <td>I wish Dom would interact more with the rest o...</td>\n",
       "      <td>2021-06-25 02:29:29</td>\n",
       "      <td>28</td>\n",
       "      <td>3</td>\n",
       "      <td>135</td>\n",
       "    </tr>\n",
       "  </tbody>\n",
       "</table>\n",
       "</div>"
      ],
      "text/plain": [
       "                                            comments                 time  \\\n",
       "0  If you’re ever falling to your death try land ...  2021-06-25 02:24:48   \n",
       "1  Hellen Mirren saying John Cena and Vin Diesel ...  2021-06-25 06:23:22   \n",
       "2  I think the most intimidating villain in the m...  2021-06-25 04:46:46   \n",
       "3  Tez: we'll be alright as long as we obey the l...  2021-06-25 02:46:44   \n",
       "4  I wish Dom would interact more with the rest o...  2021-06-25 02:29:29   \n",
       "\n",
       "   word_count  avg_word_len  char_count  \n",
       "0          22             4         111  \n",
       "1          22             4         126  \n",
       "2          14             4          81  \n",
       "3          19             3          98  \n",
       "4          28             3         135  "
      ]
     },
     "execution_count": 128,
     "metadata": {},
     "output_type": "execute_result"
    }
   ],
   "source": [
    "eda.head()"
   ]
  },
  {
   "cell_type": "code",
   "execution_count": 129,
   "id": "2491a0a1",
   "metadata": {},
   "outputs": [
    {
     "name": "stdout",
     "output_type": "stream",
     "text": [
      "Average character count: 251 words\n"
     ]
    }
   ],
   "source": [
    "print('Average character count: '+str(int(eda['char_count'].mean()))+ ' words')"
   ]
  },
  {
   "cell_type": "markdown",
   "id": "8caa8da6",
   "metadata": {},
   "source": [
    "## Stopword count"
   ]
  },
  {
   "cell_type": "code",
   "execution_count": 130,
   "id": "1e9e7d07",
   "metadata": {},
   "outputs": [],
   "source": [
    "# Import stopwords\n",
    "from nltk.corpus import stopwords"
   ]
  },
  {
   "cell_type": "code",
   "execution_count": 131,
   "id": "f04747b3",
   "metadata": {},
   "outputs": [],
   "source": [
    "stop_words = stopwords.words('english')\n",
    "eda['stopword_count'] = eda['comments'].apply(lambda x: len([x for x in x.split() if x in stop_words]))"
   ]
  },
  {
   "cell_type": "code",
   "execution_count": 132,
   "id": "4875123f",
   "metadata": {},
   "outputs": [
    {
     "data": {
      "text/html": [
       "<div>\n",
       "<style scoped>\n",
       "    .dataframe tbody tr th:only-of-type {\n",
       "        vertical-align: middle;\n",
       "    }\n",
       "\n",
       "    .dataframe tbody tr th {\n",
       "        vertical-align: top;\n",
       "    }\n",
       "\n",
       "    .dataframe thead th {\n",
       "        text-align: right;\n",
       "    }\n",
       "</style>\n",
       "<table border=\"1\" class=\"dataframe\">\n",
       "  <thead>\n",
       "    <tr style=\"text-align: right;\">\n",
       "      <th></th>\n",
       "      <th>comments</th>\n",
       "      <th>time</th>\n",
       "      <th>word_count</th>\n",
       "      <th>avg_word_len</th>\n",
       "      <th>char_count</th>\n",
       "      <th>stopword_count</th>\n",
       "    </tr>\n",
       "  </thead>\n",
       "  <tbody>\n",
       "    <tr>\n",
       "      <th>0</th>\n",
       "      <td>If you’re ever falling to your death try land ...</td>\n",
       "      <td>2021-06-25 02:24:48</td>\n",
       "      <td>22</td>\n",
       "      <td>4</td>\n",
       "      <td>111</td>\n",
       "      <td>9</td>\n",
       "    </tr>\n",
       "    <tr>\n",
       "      <th>1</th>\n",
       "      <td>Hellen Mirren saying John Cena and Vin Diesel ...</td>\n",
       "      <td>2021-06-25 06:23:22</td>\n",
       "      <td>22</td>\n",
       "      <td>4</td>\n",
       "      <td>126</td>\n",
       "      <td>8</td>\n",
       "    </tr>\n",
       "    <tr>\n",
       "      <th>2</th>\n",
       "      <td>I think the most intimidating villain in the m...</td>\n",
       "      <td>2021-06-25 04:46:46</td>\n",
       "      <td>14</td>\n",
       "      <td>4</td>\n",
       "      <td>81</td>\n",
       "      <td>5</td>\n",
       "    </tr>\n",
       "    <tr>\n",
       "      <th>3</th>\n",
       "      <td>Tez: we'll be alright as long as we obey the l...</td>\n",
       "      <td>2021-06-25 02:46:44</td>\n",
       "      <td>19</td>\n",
       "      <td>3</td>\n",
       "      <td>98</td>\n",
       "      <td>7</td>\n",
       "    </tr>\n",
       "    <tr>\n",
       "      <th>4</th>\n",
       "      <td>I wish Dom would interact more with the rest o...</td>\n",
       "      <td>2021-06-25 02:29:29</td>\n",
       "      <td>28</td>\n",
       "      <td>3</td>\n",
       "      <td>135</td>\n",
       "      <td>12</td>\n",
       "    </tr>\n",
       "  </tbody>\n",
       "</table>\n",
       "</div>"
      ],
      "text/plain": [
       "                                            comments                 time  \\\n",
       "0  If you’re ever falling to your death try land ...  2021-06-25 02:24:48   \n",
       "1  Hellen Mirren saying John Cena and Vin Diesel ...  2021-06-25 06:23:22   \n",
       "2  I think the most intimidating villain in the m...  2021-06-25 04:46:46   \n",
       "3  Tez: we'll be alright as long as we obey the l...  2021-06-25 02:46:44   \n",
       "4  I wish Dom would interact more with the rest o...  2021-06-25 02:29:29   \n",
       "\n",
       "   word_count  avg_word_len  char_count  stopword_count  \n",
       "0          22             4         111               9  \n",
       "1          22             4         126               8  \n",
       "2          14             4          81               5  \n",
       "3          19             3          98               7  \n",
       "4          28             3         135              12  "
      ]
     },
     "execution_count": 132,
     "metadata": {},
     "output_type": "execute_result"
    }
   ],
   "source": [
    "eda.head()"
   ]
  },
  {
   "cell_type": "markdown",
   "id": "f6dace83",
   "metadata": {},
   "source": [
    "## Summary statistics"
   ]
  },
  {
   "cell_type": "code",
   "execution_count": 133,
   "id": "819933be",
   "metadata": {},
   "outputs": [
    {
     "data": {
      "text/html": [
       "<div>\n",
       "<style scoped>\n",
       "    .dataframe tbody tr th:only-of-type {\n",
       "        vertical-align: middle;\n",
       "    }\n",
       "\n",
       "    .dataframe tbody tr th {\n",
       "        vertical-align: top;\n",
       "    }\n",
       "\n",
       "    .dataframe thead th {\n",
       "        text-align: right;\n",
       "    }\n",
       "</style>\n",
       "<table border=\"1\" class=\"dataframe\">\n",
       "  <thead>\n",
       "    <tr style=\"text-align: right;\">\n",
       "      <th></th>\n",
       "      <th>word_count</th>\n",
       "      <th>avg_word_len</th>\n",
       "      <th>char_count</th>\n",
       "      <th>stopword_count</th>\n",
       "    </tr>\n",
       "  </thead>\n",
       "  <tbody>\n",
       "    <tr>\n",
       "      <th>count</th>\n",
       "      <td>100.000000</td>\n",
       "      <td>100.000000</td>\n",
       "      <td>100.000000</td>\n",
       "      <td>100.000000</td>\n",
       "    </tr>\n",
       "    <tr>\n",
       "      <th>mean</th>\n",
       "      <td>46.480000</td>\n",
       "      <td>4.040000</td>\n",
       "      <td>251.420000</td>\n",
       "      <td>18.430000</td>\n",
       "    </tr>\n",
       "    <tr>\n",
       "      <th>std</th>\n",
       "      <td>64.721233</td>\n",
       "      <td>1.033969</td>\n",
       "      <td>355.543465</td>\n",
       "      <td>26.918228</td>\n",
       "    </tr>\n",
       "    <tr>\n",
       "      <th>min</th>\n",
       "      <td>1.000000</td>\n",
       "      <td>3.000000</td>\n",
       "      <td>9.000000</td>\n",
       "      <td>0.000000</td>\n",
       "    </tr>\n",
       "    <tr>\n",
       "      <th>25%</th>\n",
       "      <td>14.000000</td>\n",
       "      <td>4.000000</td>\n",
       "      <td>67.000000</td>\n",
       "      <td>5.000000</td>\n",
       "    </tr>\n",
       "    <tr>\n",
       "      <th>50%</th>\n",
       "      <td>22.500000</td>\n",
       "      <td>4.000000</td>\n",
       "      <td>126.000000</td>\n",
       "      <td>9.000000</td>\n",
       "    </tr>\n",
       "    <tr>\n",
       "      <th>75%</th>\n",
       "      <td>51.250000</td>\n",
       "      <td>4.000000</td>\n",
       "      <td>268.750000</td>\n",
       "      <td>21.250000</td>\n",
       "    </tr>\n",
       "    <tr>\n",
       "      <th>max</th>\n",
       "      <td>465.000000</td>\n",
       "      <td>9.000000</td>\n",
       "      <td>2604.000000</td>\n",
       "      <td>196.000000</td>\n",
       "    </tr>\n",
       "  </tbody>\n",
       "</table>\n",
       "</div>"
      ],
      "text/plain": [
       "       word_count  avg_word_len   char_count  stopword_count\n",
       "count  100.000000    100.000000   100.000000      100.000000\n",
       "mean    46.480000      4.040000   251.420000       18.430000\n",
       "std     64.721233      1.033969   355.543465       26.918228\n",
       "min      1.000000      3.000000     9.000000        0.000000\n",
       "25%     14.000000      4.000000    67.000000        5.000000\n",
       "50%     22.500000      4.000000   126.000000        9.000000\n",
       "75%     51.250000      4.000000   268.750000       21.250000\n",
       "max    465.000000      9.000000  2604.000000      196.000000"
      ]
     },
     "execution_count": 133,
     "metadata": {},
     "output_type": "execute_result"
    }
   ],
   "source": [
    "eda.describe()"
   ]
  },
  {
   "cell_type": "markdown",
   "id": "7d46b97a",
   "metadata": {},
   "source": [
    "# Process Text"
   ]
  },
  {
   "cell_type": "code",
   "execution_count": 134,
   "id": "09cd3a62",
   "metadata": {},
   "outputs": [],
   "source": [
    "data = pd.read_csv('dataset/fast_9_review.csv')"
   ]
  },
  {
   "cell_type": "code",
   "execution_count": 135,
   "id": "d641c3e6",
   "metadata": {
    "scrolled": true
   },
   "outputs": [
    {
     "data": {
      "text/html": [
       "<div>\n",
       "<style scoped>\n",
       "    .dataframe tbody tr th:only-of-type {\n",
       "        vertical-align: middle;\n",
       "    }\n",
       "\n",
       "    .dataframe tbody tr th {\n",
       "        vertical-align: top;\n",
       "    }\n",
       "\n",
       "    .dataframe thead th {\n",
       "        text-align: right;\n",
       "    }\n",
       "</style>\n",
       "<table border=\"1\" class=\"dataframe\">\n",
       "  <thead>\n",
       "    <tr style=\"text-align: right;\">\n",
       "      <th></th>\n",
       "      <th>comments</th>\n",
       "      <th>time</th>\n",
       "    </tr>\n",
       "  </thead>\n",
       "  <tbody>\n",
       "    <tr>\n",
       "      <th>0</th>\n",
       "      <td>If you’re ever falling to your death try land ...</td>\n",
       "      <td>2021-06-25 02:24:48</td>\n",
       "    </tr>\n",
       "    <tr>\n",
       "      <th>1</th>\n",
       "      <td>Hellen Mirren saying John Cena and Vin Diesel ...</td>\n",
       "      <td>2021-06-25 06:23:22</td>\n",
       "    </tr>\n",
       "    <tr>\n",
       "      <th>2</th>\n",
       "      <td>I think the most intimidating villain in the m...</td>\n",
       "      <td>2021-06-25 04:46:46</td>\n",
       "    </tr>\n",
       "    <tr>\n",
       "      <th>3</th>\n",
       "      <td>Tez: we'll be alright as long as we obey the l...</td>\n",
       "      <td>2021-06-25 02:46:44</td>\n",
       "    </tr>\n",
       "    <tr>\n",
       "      <th>4</th>\n",
       "      <td>I wish Dom would interact more with the rest o...</td>\n",
       "      <td>2021-06-25 02:29:29</td>\n",
       "    </tr>\n",
       "  </tbody>\n",
       "</table>\n",
       "</div>"
      ],
      "text/plain": [
       "                                            comments                 time\n",
       "0  If you’re ever falling to your death try land ...  2021-06-25 02:24:48\n",
       "1  Hellen Mirren saying John Cena and Vin Diesel ...  2021-06-25 06:23:22\n",
       "2  I think the most intimidating villain in the m...  2021-06-25 04:46:46\n",
       "3  Tez: we'll be alright as long as we obey the l...  2021-06-25 02:46:44\n",
       "4  I wish Dom would interact more with the rest o...  2021-06-25 02:29:29"
      ]
     },
     "execution_count": 135,
     "metadata": {},
     "output_type": "execute_result"
    }
   ],
   "source": [
    "data.head()"
   ]
  },
  {
   "cell_type": "markdown",
   "id": "5450b963",
   "metadata": {},
   "source": [
    "## Convert to lowercase"
   ]
  },
  {
   "cell_type": "code",
   "execution_count": 136,
   "id": "45af3af8",
   "metadata": {},
   "outputs": [],
   "source": [
    "# Converting each comments to lowercase\n",
    "data['lowercased'] = data['comments'].apply(lambda x: \" \".join(x.lower() for x in x.split()))"
   ]
  },
  {
   "cell_type": "code",
   "execution_count": 137,
   "id": "aee8e34f",
   "metadata": {
    "scrolled": true
   },
   "outputs": [
    {
     "data": {
      "text/html": [
       "<div>\n",
       "<style scoped>\n",
       "    .dataframe tbody tr th:only-of-type {\n",
       "        vertical-align: middle;\n",
       "    }\n",
       "\n",
       "    .dataframe tbody tr th {\n",
       "        vertical-align: top;\n",
       "    }\n",
       "\n",
       "    .dataframe thead th {\n",
       "        text-align: right;\n",
       "    }\n",
       "</style>\n",
       "<table border=\"1\" class=\"dataframe\">\n",
       "  <thead>\n",
       "    <tr style=\"text-align: right;\">\n",
       "      <th></th>\n",
       "      <th>comments</th>\n",
       "      <th>time</th>\n",
       "      <th>lowercased</th>\n",
       "    </tr>\n",
       "  </thead>\n",
       "  <tbody>\n",
       "    <tr>\n",
       "      <th>0</th>\n",
       "      <td>If you’re ever falling to your death try land ...</td>\n",
       "      <td>2021-06-25 02:24:48</td>\n",
       "      <td>if you’re ever falling to your death try land ...</td>\n",
       "    </tr>\n",
       "    <tr>\n",
       "      <th>1</th>\n",
       "      <td>Hellen Mirren saying John Cena and Vin Diesel ...</td>\n",
       "      <td>2021-06-25 06:23:22</td>\n",
       "      <td>hellen mirren saying john cena and vin diesel ...</td>\n",
       "    </tr>\n",
       "    <tr>\n",
       "      <th>2</th>\n",
       "      <td>I think the most intimidating villain in the m...</td>\n",
       "      <td>2021-06-25 04:46:46</td>\n",
       "      <td>i think the most intimidating villain in the m...</td>\n",
       "    </tr>\n",
       "    <tr>\n",
       "      <th>3</th>\n",
       "      <td>Tez: we'll be alright as long as we obey the l...</td>\n",
       "      <td>2021-06-25 02:46:44</td>\n",
       "      <td>tez: we'll be alright as long as we obey the l...</td>\n",
       "    </tr>\n",
       "    <tr>\n",
       "      <th>4</th>\n",
       "      <td>I wish Dom would interact more with the rest o...</td>\n",
       "      <td>2021-06-25 02:29:29</td>\n",
       "      <td>i wish dom would interact more with the rest o...</td>\n",
       "    </tr>\n",
       "  </tbody>\n",
       "</table>\n",
       "</div>"
      ],
      "text/plain": [
       "                                            comments                 time  \\\n",
       "0  If you’re ever falling to your death try land ...  2021-06-25 02:24:48   \n",
       "1  Hellen Mirren saying John Cena and Vin Diesel ...  2021-06-25 06:23:22   \n",
       "2  I think the most intimidating villain in the m...  2021-06-25 04:46:46   \n",
       "3  Tez: we'll be alright as long as we obey the l...  2021-06-25 02:46:44   \n",
       "4  I wish Dom would interact more with the rest o...  2021-06-25 02:29:29   \n",
       "\n",
       "                                          lowercased  \n",
       "0  if you’re ever falling to your death try land ...  \n",
       "1  hellen mirren saying john cena and vin diesel ...  \n",
       "2  i think the most intimidating villain in the m...  \n",
       "3  tez: we'll be alright as long as we obey the l...  \n",
       "4  i wish dom would interact more with the rest o...  "
      ]
     },
     "execution_count": 137,
     "metadata": {},
     "output_type": "execute_result"
    }
   ],
   "source": [
    "data.head()"
   ]
  },
  {
   "cell_type": "markdown",
   "id": "3a9a1315",
   "metadata": {},
   "source": [
    "## Punctuations removal"
   ]
  },
  {
   "cell_type": "code",
   "execution_count": 138,
   "id": "f15a337e",
   "metadata": {},
   "outputs": [
    {
     "name": "stderr",
     "output_type": "stream",
     "text": [
      "<ipython-input-138-94766295ce28>:2: FutureWarning: The default value of regex will change from True to False in a future version.\n",
      "  data['nopunc'] = data['lowercased'].str.replace('[^\\w\\s]', '')\n"
     ]
    }
   ],
   "source": [
    "# remove punctuations from comments\n",
    "data['nopunc'] = data['lowercased'].str.replace('[^\\w\\s]', '')"
   ]
  },
  {
   "cell_type": "code",
   "execution_count": 139,
   "id": "ed40ae12",
   "metadata": {
    "scrolled": true
   },
   "outputs": [
    {
     "data": {
      "text/html": [
       "<div>\n",
       "<style scoped>\n",
       "    .dataframe tbody tr th:only-of-type {\n",
       "        vertical-align: middle;\n",
       "    }\n",
       "\n",
       "    .dataframe tbody tr th {\n",
       "        vertical-align: top;\n",
       "    }\n",
       "\n",
       "    .dataframe thead th {\n",
       "        text-align: right;\n",
       "    }\n",
       "</style>\n",
       "<table border=\"1\" class=\"dataframe\">\n",
       "  <thead>\n",
       "    <tr style=\"text-align: right;\">\n",
       "      <th></th>\n",
       "      <th>comments</th>\n",
       "      <th>time</th>\n",
       "      <th>lowercased</th>\n",
       "      <th>nopunc</th>\n",
       "    </tr>\n",
       "  </thead>\n",
       "  <tbody>\n",
       "    <tr>\n",
       "      <th>0</th>\n",
       "      <td>If you’re ever falling to your death try land ...</td>\n",
       "      <td>2021-06-25 02:24:48</td>\n",
       "      <td>if you’re ever falling to your death try land ...</td>\n",
       "      <td>if youre ever falling to your death try land o...</td>\n",
       "    </tr>\n",
       "    <tr>\n",
       "      <th>1</th>\n",
       "      <td>Hellen Mirren saying John Cena and Vin Diesel ...</td>\n",
       "      <td>2021-06-25 06:23:22</td>\n",
       "      <td>hellen mirren saying john cena and vin diesel ...</td>\n",
       "      <td>hellen mirren saying john cena and vin diesel ...</td>\n",
       "    </tr>\n",
       "    <tr>\n",
       "      <th>2</th>\n",
       "      <td>I think the most intimidating villain in the m...</td>\n",
       "      <td>2021-06-25 04:46:46</td>\n",
       "      <td>i think the most intimidating villain in the m...</td>\n",
       "      <td>i think the most intimidating villain in the m...</td>\n",
       "    </tr>\n",
       "    <tr>\n",
       "      <th>3</th>\n",
       "      <td>Tez: we'll be alright as long as we obey the l...</td>\n",
       "      <td>2021-06-25 02:46:44</td>\n",
       "      <td>tez: we'll be alright as long as we obey the l...</td>\n",
       "      <td>tez well be alright as long as we obey the law...</td>\n",
       "    </tr>\n",
       "    <tr>\n",
       "      <th>4</th>\n",
       "      <td>I wish Dom would interact more with the rest o...</td>\n",
       "      <td>2021-06-25 02:29:29</td>\n",
       "      <td>i wish dom would interact more with the rest o...</td>\n",
       "      <td>i wish dom would interact more with the rest o...</td>\n",
       "    </tr>\n",
       "  </tbody>\n",
       "</table>\n",
       "</div>"
      ],
      "text/plain": [
       "                                            comments                 time  \\\n",
       "0  If you’re ever falling to your death try land ...  2021-06-25 02:24:48   \n",
       "1  Hellen Mirren saying John Cena and Vin Diesel ...  2021-06-25 06:23:22   \n",
       "2  I think the most intimidating villain in the m...  2021-06-25 04:46:46   \n",
       "3  Tez: we'll be alright as long as we obey the l...  2021-06-25 02:46:44   \n",
       "4  I wish Dom would interact more with the rest o...  2021-06-25 02:29:29   \n",
       "\n",
       "                                          lowercased  \\\n",
       "0  if you’re ever falling to your death try land ...   \n",
       "1  hellen mirren saying john cena and vin diesel ...   \n",
       "2  i think the most intimidating villain in the m...   \n",
       "3  tez: we'll be alright as long as we obey the l...   \n",
       "4  i wish dom would interact more with the rest o...   \n",
       "\n",
       "                                              nopunc  \n",
       "0  if youre ever falling to your death try land o...  \n",
       "1  hellen mirren saying john cena and vin diesel ...  \n",
       "2  i think the most intimidating villain in the m...  \n",
       "3  tez well be alright as long as we obey the law...  \n",
       "4  i wish dom would interact more with the rest o...  "
      ]
     },
     "execution_count": 139,
     "metadata": {},
     "output_type": "execute_result"
    }
   ],
   "source": [
    "data.head()"
   ]
  },
  {
   "cell_type": "markdown",
   "id": "4f84b8c7",
   "metadata": {},
   "source": [
    "## Remove stopwords"
   ]
  },
  {
   "cell_type": "code",
   "execution_count": 140,
   "id": "a5ebabb9",
   "metadata": {},
   "outputs": [],
   "source": [
    "# Import stopwords\n",
    "from nltk.corpus import stopwords\n",
    "stop_words = stopwords.words('english')\n",
    "\n",
    "data['nopunc_nostop'] = data['nopunc'].apply(lambda x: \" \".join(x for x in x.split() if x not in stop_words))"
   ]
  },
  {
   "cell_type": "code",
   "execution_count": 141,
   "id": "ae4a2271",
   "metadata": {},
   "outputs": [
    {
     "data": {
      "text/html": [
       "<div>\n",
       "<style scoped>\n",
       "    .dataframe tbody tr th:only-of-type {\n",
       "        vertical-align: middle;\n",
       "    }\n",
       "\n",
       "    .dataframe tbody tr th {\n",
       "        vertical-align: top;\n",
       "    }\n",
       "\n",
       "    .dataframe thead th {\n",
       "        text-align: right;\n",
       "    }\n",
       "</style>\n",
       "<table border=\"1\" class=\"dataframe\">\n",
       "  <thead>\n",
       "    <tr style=\"text-align: right;\">\n",
       "      <th></th>\n",
       "      <th>comments</th>\n",
       "      <th>time</th>\n",
       "      <th>lowercased</th>\n",
       "      <th>nopunc</th>\n",
       "      <th>nopunc_nostop</th>\n",
       "    </tr>\n",
       "  </thead>\n",
       "  <tbody>\n",
       "    <tr>\n",
       "      <th>0</th>\n",
       "      <td>If you’re ever falling to your death try land ...</td>\n",
       "      <td>2021-06-25 02:24:48</td>\n",
       "      <td>if you’re ever falling to your death try land ...</td>\n",
       "      <td>if youre ever falling to your death try land o...</td>\n",
       "      <td>youre ever falling death try land car break fa...</td>\n",
       "    </tr>\n",
       "    <tr>\n",
       "      <th>1</th>\n",
       "      <td>Hellen Mirren saying John Cena and Vin Diesel ...</td>\n",
       "      <td>2021-06-25 06:23:22</td>\n",
       "      <td>hellen mirren saying john cena and vin diesel ...</td>\n",
       "      <td>hellen mirren saying john cena and vin diesel ...</td>\n",
       "      <td>hellen mirren saying john cena vin diesel simi...</td>\n",
       "    </tr>\n",
       "    <tr>\n",
       "      <th>2</th>\n",
       "      <td>I think the most intimidating villain in the m...</td>\n",
       "      <td>2021-06-25 04:46:46</td>\n",
       "      <td>i think the most intimidating villain in the m...</td>\n",
       "      <td>i think the most intimidating villain in the m...</td>\n",
       "      <td>think intimidating villain movie charlize ther...</td>\n",
       "    </tr>\n",
       "    <tr>\n",
       "      <th>3</th>\n",
       "      <td>Tez: we'll be alright as long as we obey the l...</td>\n",
       "      <td>2021-06-25 02:46:44</td>\n",
       "      <td>tez: we'll be alright as long as we obey the l...</td>\n",
       "      <td>tez well be alright as long as we obey the law...</td>\n",
       "      <td>tez well alright long obey laws physics entire...</td>\n",
       "    </tr>\n",
       "    <tr>\n",
       "      <th>4</th>\n",
       "      <td>I wish Dom would interact more with the rest o...</td>\n",
       "      <td>2021-06-25 02:29:29</td>\n",
       "      <td>i wish dom would interact more with the rest o...</td>\n",
       "      <td>i wish dom would interact more with the rest o...</td>\n",
       "      <td>wish dom would interact rest crew felt like ha...</td>\n",
       "    </tr>\n",
       "  </tbody>\n",
       "</table>\n",
       "</div>"
      ],
      "text/plain": [
       "                                            comments                 time  \\\n",
       "0  If you’re ever falling to your death try land ...  2021-06-25 02:24:48   \n",
       "1  Hellen Mirren saying John Cena and Vin Diesel ...  2021-06-25 06:23:22   \n",
       "2  I think the most intimidating villain in the m...  2021-06-25 04:46:46   \n",
       "3  Tez: we'll be alright as long as we obey the l...  2021-06-25 02:46:44   \n",
       "4  I wish Dom would interact more with the rest o...  2021-06-25 02:29:29   \n",
       "\n",
       "                                          lowercased  \\\n",
       "0  if you’re ever falling to your death try land ...   \n",
       "1  hellen mirren saying john cena and vin diesel ...   \n",
       "2  i think the most intimidating villain in the m...   \n",
       "3  tez: we'll be alright as long as we obey the l...   \n",
       "4  i wish dom would interact more with the rest o...   \n",
       "\n",
       "                                              nopunc  \\\n",
       "0  if youre ever falling to your death try land o...   \n",
       "1  hellen mirren saying john cena and vin diesel ...   \n",
       "2  i think the most intimidating villain in the m...   \n",
       "3  tez well be alright as long as we obey the law...   \n",
       "4  i wish dom would interact more with the rest o...   \n",
       "\n",
       "                                       nopunc_nostop  \n",
       "0  youre ever falling death try land car break fa...  \n",
       "1  hellen mirren saying john cena vin diesel simi...  \n",
       "2  think intimidating villain movie charlize ther...  \n",
       "3  tez well alright long obey laws physics entire...  \n",
       "4  wish dom would interact rest crew felt like ha...  "
      ]
     },
     "execution_count": 141,
     "metadata": {},
     "output_type": "execute_result"
    }
   ],
   "source": [
    "data.head()"
   ]
  },
  {
   "cell_type": "code",
   "execution_count": 142,
   "id": "bc33970e",
   "metadata": {},
   "outputs": [
    {
     "data": {
      "text/plain": [
       "movie        44\n",
       "dom          38\n",
       "like         25\n",
       "one          19\n",
       "scene        18\n",
       "car          17\n",
       "space        15\n",
       "also         15\n",
       "fast         14\n",
       "family       13\n",
       "got          13\n",
       "movies       13\n",
       "dont         12\n",
       "end          12\n",
       "going        12\n",
       "han          12\n",
       "felt         11\n",
       "vin          11\n",
       "cena         11\n",
       "doms         11\n",
       "part         11\n",
       "back         11\n",
       "get          10\n",
       "time         10\n",
       "even         10\n",
       "shaw         10\n",
       "still        10\n",
       "franchise     9\n",
       "roman         9\n",
       "actually      9\n",
       "dtype: int64"
      ]
     },
     "execution_count": 142,
     "metadata": {},
     "output_type": "execute_result"
    }
   ],
   "source": [
    "# View the top 30 words used\n",
    "freq= pd.Series(\" \".join(data['nopunc_nostop']).split()).value_counts()[:30]\n",
    "freq"
   ]
  },
  {
   "cell_type": "code",
   "execution_count": 143,
   "id": "d746c893",
   "metadata": {},
   "outputs": [],
   "source": [
    "other_stopwords = ['actually', 'time', 'one', 'get', 'got', 'even', 'time']"
   ]
  },
  {
   "cell_type": "code",
   "execution_count": 144,
   "id": "60e90b4c",
   "metadata": {},
   "outputs": [],
   "source": [
    "data['nopunc_nostop_nocommon'] = data['nopunc_nostop'].apply(lambda x: \"\".join(\" \".join(x for x in x.split() if x not in other_stopwords)))"
   ]
  },
  {
   "cell_type": "code",
   "execution_count": 145,
   "id": "04c60b83",
   "metadata": {
    "scrolled": true
   },
   "outputs": [
    {
     "data": {
      "text/html": [
       "<div>\n",
       "<style scoped>\n",
       "    .dataframe tbody tr th:only-of-type {\n",
       "        vertical-align: middle;\n",
       "    }\n",
       "\n",
       "    .dataframe tbody tr th {\n",
       "        vertical-align: top;\n",
       "    }\n",
       "\n",
       "    .dataframe thead th {\n",
       "        text-align: right;\n",
       "    }\n",
       "</style>\n",
       "<table border=\"1\" class=\"dataframe\">\n",
       "  <thead>\n",
       "    <tr style=\"text-align: right;\">\n",
       "      <th></th>\n",
       "      <th>comments</th>\n",
       "      <th>time</th>\n",
       "      <th>lowercased</th>\n",
       "      <th>nopunc</th>\n",
       "      <th>nopunc_nostop</th>\n",
       "      <th>nopunc_nostop_nocommon</th>\n",
       "    </tr>\n",
       "  </thead>\n",
       "  <tbody>\n",
       "    <tr>\n",
       "      <th>0</th>\n",
       "      <td>If you’re ever falling to your death try land ...</td>\n",
       "      <td>2021-06-25 02:24:48</td>\n",
       "      <td>if you’re ever falling to your death try land ...</td>\n",
       "      <td>if youre ever falling to your death try land o...</td>\n",
       "      <td>youre ever falling death try land car break fa...</td>\n",
       "      <td>youre ever falling death try land car break fa...</td>\n",
       "    </tr>\n",
       "    <tr>\n",
       "      <th>1</th>\n",
       "      <td>Hellen Mirren saying John Cena and Vin Diesel ...</td>\n",
       "      <td>2021-06-25 06:23:22</td>\n",
       "      <td>hellen mirren saying john cena and vin diesel ...</td>\n",
       "      <td>hellen mirren saying john cena and vin diesel ...</td>\n",
       "      <td>hellen mirren saying john cena vin diesel simi...</td>\n",
       "      <td>hellen mirren saying john cena vin diesel simi...</td>\n",
       "    </tr>\n",
       "    <tr>\n",
       "      <th>2</th>\n",
       "      <td>I think the most intimidating villain in the m...</td>\n",
       "      <td>2021-06-25 04:46:46</td>\n",
       "      <td>i think the most intimidating villain in the m...</td>\n",
       "      <td>i think the most intimidating villain in the m...</td>\n",
       "      <td>think intimidating villain movie charlize ther...</td>\n",
       "      <td>think intimidating villain movie charlize ther...</td>\n",
       "    </tr>\n",
       "    <tr>\n",
       "      <th>3</th>\n",
       "      <td>Tez: we'll be alright as long as we obey the l...</td>\n",
       "      <td>2021-06-25 02:46:44</td>\n",
       "      <td>tez: we'll be alright as long as we obey the l...</td>\n",
       "      <td>tez well be alright as long as we obey the law...</td>\n",
       "      <td>tez well alright long obey laws physics entire...</td>\n",
       "      <td>tez well alright long obey laws physics entire...</td>\n",
       "    </tr>\n",
       "    <tr>\n",
       "      <th>4</th>\n",
       "      <td>I wish Dom would interact more with the rest o...</td>\n",
       "      <td>2021-06-25 02:29:29</td>\n",
       "      <td>i wish dom would interact more with the rest o...</td>\n",
       "      <td>i wish dom would interact more with the rest o...</td>\n",
       "      <td>wish dom would interact rest crew felt like ha...</td>\n",
       "      <td>wish dom would interact rest crew felt like ha...</td>\n",
       "    </tr>\n",
       "  </tbody>\n",
       "</table>\n",
       "</div>"
      ],
      "text/plain": [
       "                                            comments                 time  \\\n",
       "0  If you’re ever falling to your death try land ...  2021-06-25 02:24:48   \n",
       "1  Hellen Mirren saying John Cena and Vin Diesel ...  2021-06-25 06:23:22   \n",
       "2  I think the most intimidating villain in the m...  2021-06-25 04:46:46   \n",
       "3  Tez: we'll be alright as long as we obey the l...  2021-06-25 02:46:44   \n",
       "4  I wish Dom would interact more with the rest o...  2021-06-25 02:29:29   \n",
       "\n",
       "                                          lowercased  \\\n",
       "0  if you’re ever falling to your death try land ...   \n",
       "1  hellen mirren saying john cena and vin diesel ...   \n",
       "2  i think the most intimidating villain in the m...   \n",
       "3  tez: we'll be alright as long as we obey the l...   \n",
       "4  i wish dom would interact more with the rest o...   \n",
       "\n",
       "                                              nopunc  \\\n",
       "0  if youre ever falling to your death try land o...   \n",
       "1  hellen mirren saying john cena and vin diesel ...   \n",
       "2  i think the most intimidating villain in the m...   \n",
       "3  tez well be alright as long as we obey the law...   \n",
       "4  i wish dom would interact more with the rest o...   \n",
       "\n",
       "                                       nopunc_nostop  \\\n",
       "0  youre ever falling death try land car break fa...   \n",
       "1  hellen mirren saying john cena vin diesel simi...   \n",
       "2  think intimidating villain movie charlize ther...   \n",
       "3  tez well alright long obey laws physics entire...   \n",
       "4  wish dom would interact rest crew felt like ha...   \n",
       "\n",
       "                              nopunc_nostop_nocommon  \n",
       "0  youre ever falling death try land car break fa...  \n",
       "1  hellen mirren saying john cena vin diesel simi...  \n",
       "2  think intimidating villain movie charlize ther...  \n",
       "3  tez well alright long obey laws physics entire...  \n",
       "4  wish dom would interact rest crew felt like ha...  "
      ]
     },
     "execution_count": 145,
     "metadata": {},
     "output_type": "execute_result"
    }
   ],
   "source": [
    "data.head()"
   ]
  },
  {
   "cell_type": "markdown",
   "id": "3cad5515",
   "metadata": {},
   "source": [
    "## Lemmatize the comments"
   ]
  },
  {
   "cell_type": "code",
   "execution_count": 146,
   "id": "d9fdea36",
   "metadata": {},
   "outputs": [],
   "source": [
    "# Import textblob\n",
    "from textblob import Word\n",
    "\n",
    "# Lemmatize final review format\n",
    "data['cleaned_comments'] = data['nopunc_nostop_nocommon'].apply(lambda x: \" \".join([Word(word).lemmatize() for word in x.split()]))"
   ]
  },
  {
   "cell_type": "code",
   "execution_count": 147,
   "id": "6d7b8bc9",
   "metadata": {},
   "outputs": [
    {
     "data": {
      "text/html": [
       "<div>\n",
       "<style scoped>\n",
       "    .dataframe tbody tr th:only-of-type {\n",
       "        vertical-align: middle;\n",
       "    }\n",
       "\n",
       "    .dataframe tbody tr th {\n",
       "        vertical-align: top;\n",
       "    }\n",
       "\n",
       "    .dataframe thead th {\n",
       "        text-align: right;\n",
       "    }\n",
       "</style>\n",
       "<table border=\"1\" class=\"dataframe\">\n",
       "  <thead>\n",
       "    <tr style=\"text-align: right;\">\n",
       "      <th></th>\n",
       "      <th>comments</th>\n",
       "      <th>time</th>\n",
       "      <th>lowercased</th>\n",
       "      <th>nopunc</th>\n",
       "      <th>nopunc_nostop</th>\n",
       "      <th>nopunc_nostop_nocommon</th>\n",
       "      <th>cleaned_comments</th>\n",
       "    </tr>\n",
       "  </thead>\n",
       "  <tbody>\n",
       "    <tr>\n",
       "      <th>0</th>\n",
       "      <td>If you’re ever falling to your death try land ...</td>\n",
       "      <td>2021-06-25 02:24:48</td>\n",
       "      <td>if you’re ever falling to your death try land ...</td>\n",
       "      <td>if youre ever falling to your death try land o...</td>\n",
       "      <td>youre ever falling death try land car break fa...</td>\n",
       "      <td>youre ever falling death try land car break fa...</td>\n",
       "      <td>youre ever falling death try land car break fa...</td>\n",
       "    </tr>\n",
       "    <tr>\n",
       "      <th>1</th>\n",
       "      <td>Hellen Mirren saying John Cena and Vin Diesel ...</td>\n",
       "      <td>2021-06-25 06:23:22</td>\n",
       "      <td>hellen mirren saying john cena and vin diesel ...</td>\n",
       "      <td>hellen mirren saying john cena and vin diesel ...</td>\n",
       "      <td>hellen mirren saying john cena vin diesel simi...</td>\n",
       "      <td>hellen mirren saying john cena vin diesel simi...</td>\n",
       "      <td>hellen mirren saying john cena vin diesel simi...</td>\n",
       "    </tr>\n",
       "    <tr>\n",
       "      <th>2</th>\n",
       "      <td>I think the most intimidating villain in the m...</td>\n",
       "      <td>2021-06-25 04:46:46</td>\n",
       "      <td>i think the most intimidating villain in the m...</td>\n",
       "      <td>i think the most intimidating villain in the m...</td>\n",
       "      <td>think intimidating villain movie charlize ther...</td>\n",
       "      <td>think intimidating villain movie charlize ther...</td>\n",
       "      <td>think intimidating villain movie charlize ther...</td>\n",
       "    </tr>\n",
       "    <tr>\n",
       "      <th>3</th>\n",
       "      <td>Tez: we'll be alright as long as we obey the l...</td>\n",
       "      <td>2021-06-25 02:46:44</td>\n",
       "      <td>tez: we'll be alright as long as we obey the l...</td>\n",
       "      <td>tez well be alright as long as we obey the law...</td>\n",
       "      <td>tez well alright long obey laws physics entire...</td>\n",
       "      <td>tez well alright long obey laws physics entire...</td>\n",
       "      <td>tez well alright long obey law physic entire m...</td>\n",
       "    </tr>\n",
       "    <tr>\n",
       "      <th>4</th>\n",
       "      <td>I wish Dom would interact more with the rest o...</td>\n",
       "      <td>2021-06-25 02:29:29</td>\n",
       "      <td>i wish dom would interact more with the rest o...</td>\n",
       "      <td>i wish dom would interact more with the rest o...</td>\n",
       "      <td>wish dom would interact rest crew felt like ha...</td>\n",
       "      <td>wish dom would interact rest crew felt like ha...</td>\n",
       "      <td>wish dom would interact rest crew felt like ha...</td>\n",
       "    </tr>\n",
       "  </tbody>\n",
       "</table>\n",
       "</div>"
      ],
      "text/plain": [
       "                                            comments                 time  \\\n",
       "0  If you’re ever falling to your death try land ...  2021-06-25 02:24:48   \n",
       "1  Hellen Mirren saying John Cena and Vin Diesel ...  2021-06-25 06:23:22   \n",
       "2  I think the most intimidating villain in the m...  2021-06-25 04:46:46   \n",
       "3  Tez: we'll be alright as long as we obey the l...  2021-06-25 02:46:44   \n",
       "4  I wish Dom would interact more with the rest o...  2021-06-25 02:29:29   \n",
       "\n",
       "                                          lowercased  \\\n",
       "0  if you’re ever falling to your death try land ...   \n",
       "1  hellen mirren saying john cena and vin diesel ...   \n",
       "2  i think the most intimidating villain in the m...   \n",
       "3  tez: we'll be alright as long as we obey the l...   \n",
       "4  i wish dom would interact more with the rest o...   \n",
       "\n",
       "                                              nopunc  \\\n",
       "0  if youre ever falling to your death try land o...   \n",
       "1  hellen mirren saying john cena and vin diesel ...   \n",
       "2  i think the most intimidating villain in the m...   \n",
       "3  tez well be alright as long as we obey the law...   \n",
       "4  i wish dom would interact more with the rest o...   \n",
       "\n",
       "                                       nopunc_nostop  \\\n",
       "0  youre ever falling death try land car break fa...   \n",
       "1  hellen mirren saying john cena vin diesel simi...   \n",
       "2  think intimidating villain movie charlize ther...   \n",
       "3  tez well alright long obey laws physics entire...   \n",
       "4  wish dom would interact rest crew felt like ha...   \n",
       "\n",
       "                              nopunc_nostop_nocommon  \\\n",
       "0  youre ever falling death try land car break fa...   \n",
       "1  hellen mirren saying john cena vin diesel simi...   \n",
       "2  think intimidating villain movie charlize ther...   \n",
       "3  tez well alright long obey laws physics entire...   \n",
       "4  wish dom would interact rest crew felt like ha...   \n",
       "\n",
       "                                    cleaned_comments  \n",
       "0  youre ever falling death try land car break fa...  \n",
       "1  hellen mirren saying john cena vin diesel simi...  \n",
       "2  think intimidating villain movie charlize ther...  \n",
       "3  tez well alright long obey law physic entire m...  \n",
       "4  wish dom would interact rest crew felt like ha...  "
      ]
     },
     "execution_count": 147,
     "metadata": {},
     "output_type": "execute_result"
    }
   ],
   "source": [
    "data.head()"
   ]
  },
  {
   "cell_type": "markdown",
   "id": "d6423706",
   "metadata": {},
   "source": [
    "## Export cleaned comments"
   ]
  },
  {
   "cell_type": "code",
   "execution_count": 148,
   "id": "481b8cd5",
   "metadata": {},
   "outputs": [],
   "source": [
    "data[['cleaned_comments','time']].to_csv('dataset/fast_9_review_cleaned.csv',index = False)"
   ]
  },
  {
   "cell_type": "markdown",
   "id": "5dd01eee",
   "metadata": {},
   "source": [
    "# Visualization"
   ]
  },
  {
   "cell_type": "code",
   "execution_count": 149,
   "id": "51e97b35",
   "metadata": {},
   "outputs": [],
   "source": [
    "df = pd.read_csv('dataset/fast_9_review_cleaned.csv')"
   ]
  },
  {
   "cell_type": "code",
   "execution_count": 150,
   "id": "a8c2660a",
   "metadata": {},
   "outputs": [
    {
     "data": {
      "text/html": [
       "<div>\n",
       "<style scoped>\n",
       "    .dataframe tbody tr th:only-of-type {\n",
       "        vertical-align: middle;\n",
       "    }\n",
       "\n",
       "    .dataframe tbody tr th {\n",
       "        vertical-align: top;\n",
       "    }\n",
       "\n",
       "    .dataframe thead th {\n",
       "        text-align: right;\n",
       "    }\n",
       "</style>\n",
       "<table border=\"1\" class=\"dataframe\">\n",
       "  <thead>\n",
       "    <tr style=\"text-align: right;\">\n",
       "      <th></th>\n",
       "      <th>cleaned_comments</th>\n",
       "      <th>time</th>\n",
       "    </tr>\n",
       "  </thead>\n",
       "  <tbody>\n",
       "    <tr>\n",
       "      <th>0</th>\n",
       "      <td>youre ever falling death try land car break fa...</td>\n",
       "      <td>2021-06-25 02:24:48</td>\n",
       "    </tr>\n",
       "    <tr>\n",
       "      <th>1</th>\n",
       "      <td>hellen mirren saying john cena vin diesel simi...</td>\n",
       "      <td>2021-06-25 06:23:22</td>\n",
       "    </tr>\n",
       "    <tr>\n",
       "      <th>2</th>\n",
       "      <td>think intimidating villain movie charlize ther...</td>\n",
       "      <td>2021-06-25 04:46:46</td>\n",
       "    </tr>\n",
       "    <tr>\n",
       "      <th>3</th>\n",
       "      <td>tez well alright long obey law physic entire m...</td>\n",
       "      <td>2021-06-25 02:46:44</td>\n",
       "    </tr>\n",
       "    <tr>\n",
       "      <th>4</th>\n",
       "      <td>wish dom would interact rest crew felt like ha...</td>\n",
       "      <td>2021-06-25 02:29:29</td>\n",
       "    </tr>\n",
       "    <tr>\n",
       "      <th>...</th>\n",
       "      <td>...</td>\n",
       "      <td>...</td>\n",
       "    </tr>\n",
       "    <tr>\n",
       "      <th>95</th>\n",
       "      <td>f1011 gonna infinity warendgame treatment gonn...</td>\n",
       "      <td>2021-06-26 10:42:18</td>\n",
       "    </tr>\n",
       "    <tr>\n",
       "      <th>96</th>\n",
       "      <td>many problem plot doms brother big spyevil guy...</td>\n",
       "      <td>2021-07-04 20:50:01</td>\n",
       "    </tr>\n",
       "    <tr>\n",
       "      <th>97</th>\n",
       "      <td>dude sean tokyo drifter dirty fuck behind plan...</td>\n",
       "      <td>2021-07-29 21:03:51</td>\n",
       "    </tr>\n",
       "    <tr>\n",
       "      <th>98</th>\n",
       "      <td>nephew eight love car mum wont let watch ff mo...</td>\n",
       "      <td>2021-07-16 06:26:07</td>\n",
       "    </tr>\n",
       "    <tr>\n",
       "      <th>99</th>\n",
       "      <td>toretto nordic blood</td>\n",
       "      <td>2021-06-26 04:02:12</td>\n",
       "    </tr>\n",
       "  </tbody>\n",
       "</table>\n",
       "<p>100 rows × 2 columns</p>\n",
       "</div>"
      ],
      "text/plain": [
       "                                     cleaned_comments                 time\n",
       "0   youre ever falling death try land car break fa...  2021-06-25 02:24:48\n",
       "1   hellen mirren saying john cena vin diesel simi...  2021-06-25 06:23:22\n",
       "2   think intimidating villain movie charlize ther...  2021-06-25 04:46:46\n",
       "3   tez well alright long obey law physic entire m...  2021-06-25 02:46:44\n",
       "4   wish dom would interact rest crew felt like ha...  2021-06-25 02:29:29\n",
       "..                                                ...                  ...\n",
       "95  f1011 gonna infinity warendgame treatment gonn...  2021-06-26 10:42:18\n",
       "96  many problem plot doms brother big spyevil guy...  2021-07-04 20:50:01\n",
       "97  dude sean tokyo drifter dirty fuck behind plan...  2021-07-29 21:03:51\n",
       "98  nephew eight love car mum wont let watch ff mo...  2021-07-16 06:26:07\n",
       "99                               toretto nordic blood  2021-06-26 04:02:12\n",
       "\n",
       "[100 rows x 2 columns]"
      ]
     },
     "execution_count": 150,
     "metadata": {},
     "output_type": "execute_result"
    }
   ],
   "source": [
    "df"
   ]
  },
  {
   "cell_type": "markdown",
   "id": "5bed9a0e",
   "metadata": {},
   "source": [
    "## Polarity and Subjectivity"
   ]
  },
  {
   "cell_type": "markdown",
   "id": "8c5ec850",
   "metadata": {},
   "source": [
    "### Calculate score"
   ]
  },
  {
   "cell_type": "code",
   "execution_count": 151,
   "id": "856fd130",
   "metadata": {},
   "outputs": [],
   "source": [
    "# Calculate polarity\n",
    "from textblob import TextBlob\n",
    "df['polarity'] = df['cleaned_comments'].apply(lambda x: TextBlob(x).sentiment[0])\n",
    "\n",
    "# Calculate subjectivity\n",
    "df['subjectivity'] = df['cleaned_comments'].apply(lambda x: TextBlob(x).sentiment[1])"
   ]
  },
  {
   "cell_type": "code",
   "execution_count": 152,
   "id": "264a4a3b",
   "metadata": {
    "scrolled": false
   },
   "outputs": [
    {
     "data": {
      "text/html": [
       "<div>\n",
       "<style scoped>\n",
       "    .dataframe tbody tr th:only-of-type {\n",
       "        vertical-align: middle;\n",
       "    }\n",
       "\n",
       "    .dataframe tbody tr th {\n",
       "        vertical-align: top;\n",
       "    }\n",
       "\n",
       "    .dataframe thead th {\n",
       "        text-align: right;\n",
       "    }\n",
       "</style>\n",
       "<table border=\"1\" class=\"dataframe\">\n",
       "  <thead>\n",
       "    <tr style=\"text-align: right;\">\n",
       "      <th></th>\n",
       "      <th>cleaned_comments</th>\n",
       "      <th>time</th>\n",
       "      <th>polarity</th>\n",
       "      <th>subjectivity</th>\n",
       "    </tr>\n",
       "  </thead>\n",
       "  <tbody>\n",
       "    <tr>\n",
       "      <th>0</th>\n",
       "      <td>youre ever falling death try land car break fa...</td>\n",
       "      <td>2021-06-25 02:24:48</td>\n",
       "      <td>0.025000</td>\n",
       "      <td>0.175000</td>\n",
       "    </tr>\n",
       "    <tr>\n",
       "      <th>1</th>\n",
       "      <td>hellen mirren saying john cena vin diesel simi...</td>\n",
       "      <td>2021-06-25 06:23:22</td>\n",
       "      <td>0.066667</td>\n",
       "      <td>0.266667</td>\n",
       "    </tr>\n",
       "    <tr>\n",
       "      <th>2</th>\n",
       "      <td>think intimidating villain movie charlize ther...</td>\n",
       "      <td>2021-06-25 04:46:46</td>\n",
       "      <td>0.000000</td>\n",
       "      <td>0.000000</td>\n",
       "    </tr>\n",
       "    <tr>\n",
       "      <th>3</th>\n",
       "      <td>tez well alright long obey law physic entire m...</td>\n",
       "      <td>2021-06-25 02:46:44</td>\n",
       "      <td>0.087500</td>\n",
       "      <td>0.581250</td>\n",
       "    </tr>\n",
       "    <tr>\n",
       "      <th>4</th>\n",
       "      <td>wish dom would interact rest crew felt like ha...</td>\n",
       "      <td>2021-06-25 02:29:29</td>\n",
       "      <td>-0.291667</td>\n",
       "      <td>0.541667</td>\n",
       "    </tr>\n",
       "  </tbody>\n",
       "</table>\n",
       "</div>"
      ],
      "text/plain": [
       "                                    cleaned_comments                 time  \\\n",
       "0  youre ever falling death try land car break fa...  2021-06-25 02:24:48   \n",
       "1  hellen mirren saying john cena vin diesel simi...  2021-06-25 06:23:22   \n",
       "2  think intimidating villain movie charlize ther...  2021-06-25 04:46:46   \n",
       "3  tez well alright long obey law physic entire m...  2021-06-25 02:46:44   \n",
       "4  wish dom would interact rest crew felt like ha...  2021-06-25 02:29:29   \n",
       "\n",
       "   polarity  subjectivity  \n",
       "0  0.025000      0.175000  \n",
       "1  0.066667      0.266667  \n",
       "2  0.000000      0.000000  \n",
       "3  0.087500      0.581250  \n",
       "4 -0.291667      0.541667  "
      ]
     },
     "execution_count": 152,
     "metadata": {},
     "output_type": "execute_result"
    }
   ],
   "source": [
    "df.head()"
   ]
  },
  {
   "cell_type": "code",
   "execution_count": 153,
   "id": "35b56eb6",
   "metadata": {
    "scrolled": true
   },
   "outputs": [
    {
     "data": {
      "text/html": [
       "<div>\n",
       "<style scoped>\n",
       "    .dataframe tbody tr th:only-of-type {\n",
       "        vertical-align: middle;\n",
       "    }\n",
       "\n",
       "    .dataframe tbody tr th {\n",
       "        vertical-align: top;\n",
       "    }\n",
       "\n",
       "    .dataframe thead th {\n",
       "        text-align: right;\n",
       "    }\n",
       "</style>\n",
       "<table border=\"1\" class=\"dataframe\">\n",
       "  <thead>\n",
       "    <tr style=\"text-align: right;\">\n",
       "      <th></th>\n",
       "      <th>polarity</th>\n",
       "      <th>subjectivity</th>\n",
       "    </tr>\n",
       "  </thead>\n",
       "  <tbody>\n",
       "    <tr>\n",
       "      <th>count</th>\n",
       "      <td>100.000000</td>\n",
       "      <td>100.000000</td>\n",
       "    </tr>\n",
       "    <tr>\n",
       "      <th>mean</th>\n",
       "      <td>0.057331</td>\n",
       "      <td>0.439929</td>\n",
       "    </tr>\n",
       "    <tr>\n",
       "      <th>std</th>\n",
       "      <td>0.286197</td>\n",
       "      <td>0.272889</td>\n",
       "    </tr>\n",
       "    <tr>\n",
       "      <th>min</th>\n",
       "      <td>-0.900000</td>\n",
       "      <td>0.000000</td>\n",
       "    </tr>\n",
       "    <tr>\n",
       "      <th>25%</th>\n",
       "      <td>0.000000</td>\n",
       "      <td>0.300000</td>\n",
       "    </tr>\n",
       "    <tr>\n",
       "      <th>50%</th>\n",
       "      <td>0.046165</td>\n",
       "      <td>0.435020</td>\n",
       "    </tr>\n",
       "    <tr>\n",
       "      <th>75%</th>\n",
       "      <td>0.200000</td>\n",
       "      <td>0.606399</td>\n",
       "    </tr>\n",
       "    <tr>\n",
       "      <th>max</th>\n",
       "      <td>1.000000</td>\n",
       "      <td>1.000000</td>\n",
       "    </tr>\n",
       "  </tbody>\n",
       "</table>\n",
       "</div>"
      ],
      "text/plain": [
       "         polarity  subjectivity\n",
       "count  100.000000    100.000000\n",
       "mean     0.057331      0.439929\n",
       "std      0.286197      0.272889\n",
       "min     -0.900000      0.000000\n",
       "25%      0.000000      0.300000\n",
       "50%      0.046165      0.435020\n",
       "75%      0.200000      0.606399\n",
       "max      1.000000      1.000000"
      ]
     },
     "execution_count": 153,
     "metadata": {},
     "output_type": "execute_result"
    }
   ],
   "source": [
    "# Summary statictics of the scores\n",
    "df.describe()"
   ]
  },
  {
   "cell_type": "markdown",
   "id": "7ca2147e",
   "metadata": {},
   "source": [
    "### Label the scores"
   ]
  },
  {
   "cell_type": "code",
   "execution_count": 154,
   "id": "8ee4fc72",
   "metadata": {},
   "outputs": [],
   "source": [
    "# Add polarity label\n",
    "\n",
    "def polar_label(polar):\n",
    "  if (polar<-0.5):\n",
    "    return \"negative\"\n",
    "  elif (polar>=-0.5) and (polar<0):\n",
    "    return \"weak negative\"\n",
    "  elif (polar==0):\n",
    "    return \"neutral\"\n",
    "  elif (polar>0)and(polar<=0.5):\n",
    "    return \"weak positive\"\n",
    "  else:\n",
    "    return \"positive\"\n",
    "\n",
    "df['polar_label'] = df['polarity'].apply(lambda x: polar_label(x))"
   ]
  },
  {
   "cell_type": "code",
   "execution_count": 155,
   "id": "f206be05",
   "metadata": {},
   "outputs": [],
   "source": [
    "# Add subjectivity label\n",
    "\n",
    "def subj_label(subj):\n",
    "  if subj<0.5:\n",
    "    return \"objective\"\n",
    "  elif subj==0.5:\n",
    "    return \"neutral\"\n",
    "  else:\n",
    "    return \"subjective\"\n",
    "\n",
    "df['subj_label'] = df['subjectivity'].apply(lambda x: subj_label(x))"
   ]
  },
  {
   "cell_type": "code",
   "execution_count": 156,
   "id": "68397967",
   "metadata": {},
   "outputs": [
    {
     "data": {
      "text/html": [
       "<div>\n",
       "<style scoped>\n",
       "    .dataframe tbody tr th:only-of-type {\n",
       "        vertical-align: middle;\n",
       "    }\n",
       "\n",
       "    .dataframe tbody tr th {\n",
       "        vertical-align: top;\n",
       "    }\n",
       "\n",
       "    .dataframe thead th {\n",
       "        text-align: right;\n",
       "    }\n",
       "</style>\n",
       "<table border=\"1\" class=\"dataframe\">\n",
       "  <thead>\n",
       "    <tr style=\"text-align: right;\">\n",
       "      <th></th>\n",
       "      <th>cleaned_comments</th>\n",
       "      <th>time</th>\n",
       "      <th>polarity</th>\n",
       "      <th>subjectivity</th>\n",
       "      <th>polar_label</th>\n",
       "      <th>subj_label</th>\n",
       "    </tr>\n",
       "  </thead>\n",
       "  <tbody>\n",
       "    <tr>\n",
       "      <th>0</th>\n",
       "      <td>youre ever falling death try land car break fa...</td>\n",
       "      <td>2021-06-25 02:24:48</td>\n",
       "      <td>0.025000</td>\n",
       "      <td>0.175000</td>\n",
       "      <td>weak positive</td>\n",
       "      <td>objective</td>\n",
       "    </tr>\n",
       "    <tr>\n",
       "      <th>1</th>\n",
       "      <td>hellen mirren saying john cena vin diesel simi...</td>\n",
       "      <td>2021-06-25 06:23:22</td>\n",
       "      <td>0.066667</td>\n",
       "      <td>0.266667</td>\n",
       "      <td>weak positive</td>\n",
       "      <td>objective</td>\n",
       "    </tr>\n",
       "    <tr>\n",
       "      <th>2</th>\n",
       "      <td>think intimidating villain movie charlize ther...</td>\n",
       "      <td>2021-06-25 04:46:46</td>\n",
       "      <td>0.000000</td>\n",
       "      <td>0.000000</td>\n",
       "      <td>neutral</td>\n",
       "      <td>objective</td>\n",
       "    </tr>\n",
       "    <tr>\n",
       "      <th>3</th>\n",
       "      <td>tez well alright long obey law physic entire m...</td>\n",
       "      <td>2021-06-25 02:46:44</td>\n",
       "      <td>0.087500</td>\n",
       "      <td>0.581250</td>\n",
       "      <td>weak positive</td>\n",
       "      <td>subjective</td>\n",
       "    </tr>\n",
       "    <tr>\n",
       "      <th>4</th>\n",
       "      <td>wish dom would interact rest crew felt like ha...</td>\n",
       "      <td>2021-06-25 02:29:29</td>\n",
       "      <td>-0.291667</td>\n",
       "      <td>0.541667</td>\n",
       "      <td>weak negative</td>\n",
       "      <td>subjective</td>\n",
       "    </tr>\n",
       "  </tbody>\n",
       "</table>\n",
       "</div>"
      ],
      "text/plain": [
       "                                    cleaned_comments                 time  \\\n",
       "0  youre ever falling death try land car break fa...  2021-06-25 02:24:48   \n",
       "1  hellen mirren saying john cena vin diesel simi...  2021-06-25 06:23:22   \n",
       "2  think intimidating villain movie charlize ther...  2021-06-25 04:46:46   \n",
       "3  tez well alright long obey law physic entire m...  2021-06-25 02:46:44   \n",
       "4  wish dom would interact rest crew felt like ha...  2021-06-25 02:29:29   \n",
       "\n",
       "   polarity  subjectivity    polar_label  subj_label  \n",
       "0  0.025000      0.175000  weak positive   objective  \n",
       "1  0.066667      0.266667  weak positive   objective  \n",
       "2  0.000000      0.000000        neutral   objective  \n",
       "3  0.087500      0.581250  weak positive  subjective  \n",
       "4 -0.291667      0.541667  weak negative  subjective  "
      ]
     },
     "execution_count": 156,
     "metadata": {},
     "output_type": "execute_result"
    }
   ],
   "source": [
    "df.head()"
   ]
  },
  {
   "cell_type": "code",
   "execution_count": 157,
   "id": "94a31b03",
   "metadata": {
    "scrolled": true
   },
   "outputs": [
    {
     "data": {
      "text/plain": [
       "weak positive    52\n",
       "neutral          20\n",
       "weak negative    19\n",
       "positive          5\n",
       "negative          4\n",
       "Name: polar_label, dtype: int64"
      ]
     },
     "execution_count": 157,
     "metadata": {},
     "output_type": "execute_result"
    }
   ],
   "source": [
    "# count of polar label\n",
    "df['polar_label'].value_counts()"
   ]
  },
  {
   "cell_type": "markdown",
   "id": "58bacfef",
   "metadata": {},
   "source": [
    "## Score distribution"
   ]
  },
  {
   "cell_type": "code",
   "execution_count": 158,
   "id": "f1a40226",
   "metadata": {},
   "outputs": [],
   "source": [
    "import seaborn as sns\n",
    "import matplotlib.pyplot as plt"
   ]
  },
  {
   "cell_type": "code",
   "execution_count": 159,
   "id": "54708d22",
   "metadata": {
    "scrolled": false
   },
   "outputs": [
    {
     "data": {
      "image/png": "[encoded data removed]",
      "text/plain": [
       "<Figure size 720x360 with 1 Axes>"
      ]
     },
     "metadata": {},
     "output_type": "display_data"
    }
   ],
   "source": [
    "plt.figure(figsize=(10,5),facecolor='1')\n",
    "plt.title('Polarity score distribution')\n",
    "\n",
    "sns.kdeplot(\n",
    "   data=df, x=\"polarity\", \n",
    "   fill=True, palette=\"Set1\",\n",
    "   alpha=.5, linewidth=1)\n",
    "\n",
    "plt.show()"
   ]
  },
  {
   "cell_type": "markdown",
   "id": "f3e3d066",
   "metadata": {},
   "source": [
    "**Description:** The polarity score distribution graph shows a unimodal bell shaped distribution. A left skew is shown from the distribution which tells us that the mean gets pulled towards the tail, and is less than the median. "
   ]
  },
  {
   "cell_type": "code",
   "execution_count": 160,
   "id": "47b5e772",
   "metadata": {
    "scrolled": false
   },
   "outputs": [
    {
     "data": {
      "image/png": "[encoded data removed]",
      "text/plain": [
       "<Figure size 720x360 with 1 Axes>"
      ]
     },
     "metadata": {},
     "output_type": "display_data"
    }
   ],
   "source": [
    "plt.figure(figsize=(10,5),facecolor='1')\n",
    "plt.title('Subjectivity score distribution')\n",
    "\n",
    "sns.kdeplot(\n",
    "   data=df, x=\"subjectivity\", \n",
    "   fill=True, palette=\"Set1\",\n",
    "   alpha=.5, linewidth=1)\n",
    "\n",
    "plt.show()"
   ]
  },
  {
   "cell_type": "markdown",
   "id": "009d0c3f",
   "metadata": {},
   "source": [
    "**Description:** The subjectivity score distribution graph shows a bimodal distribution. A slight right skew is shown from the distribution which tells us that the mean gets pulled towards the tail, and is greater than the median. "
   ]
  },
  {
   "cell_type": "markdown",
   "id": "a583be2a",
   "metadata": {},
   "source": [
    "## Label count"
   ]
  },
  {
   "cell_type": "code",
   "execution_count": 161,
   "id": "8b6dca1a",
   "metadata": {
    "scrolled": true
   },
   "outputs": [
    {
     "data": {
      "image/png": "[encoded data removed]",
      "text/plain": [
       "<Figure size 720x360 with 1 Axes>"
      ]
     },
     "metadata": {},
     "output_type": "display_data"
    }
   ],
   "source": [
    "plt.figure(figsize=(10,5),facecolor='1')\n",
    "plt.title('Count of polarity score')\n",
    "\n",
    "sns.countplot(\n",
    "   data=df, x=\"polar_label\",palette=\"Set1\")\n",
    "\n",
    "plt.show()"
   ]
  },
  {
   "cell_type": "markdown",
   "id": "54a83a96",
   "metadata": {},
   "source": [
    "**Description:** The bar chart shows that count of polarity labels from the Fast 9 movie Reddit comments. From the chart we can see that most of the comments are 'weak positive'. This shows that Reddit comments on the post are reacting slightly positive towards the movie."
   ]
  },
  {
   "cell_type": "code",
   "execution_count": 162,
   "id": "40ede5c5",
   "metadata": {
    "scrolled": false
   },
   "outputs": [
    {
     "data": {
      "image/png": "[encoded data removed]",
      "text/plain": [
       "<Figure size 720x360 with 1 Axes>"
      ]
     },
     "metadata": {},
     "output_type": "display_data"
    }
   ],
   "source": [
    "plt.figure(figsize=(10,5),facecolor='1')\n",
    "plt.title('Count of polarity score')\n",
    "\n",
    "sns.countplot(\n",
    "   data=df, x=\"subj_label\",palette=\"Set1\")\n",
    "\n",
    "plt.show()"
   ]
  },
  {
   "cell_type": "markdown",
   "id": "49491f88",
   "metadata": {},
   "source": [
    "**Description:** The bar chart shows that count of subjectivity labels from the Fast 9 movie Reddit comments. From the chart we can see that most of the comments are 'objective'. This means that most of the collected comments are mostly factual albeit by only a small margin.  "
   ]
  },
  {
   "cell_type": "markdown",
   "id": "bd9911d9",
   "metadata": {},
   "source": [
    "## Wordcloud"
   ]
  },
  {
   "cell_type": "markdown",
   "id": "06808286",
   "metadata": {},
   "source": [
    "### Positive comments wordcloud"
   ]
  },
  {
   "cell_type": "code",
   "execution_count": 163,
   "id": "830a1218",
   "metadata": {},
   "outputs": [],
   "source": [
    "from wordcloud import WordCloud, STOPWORDS, ImageColorGenerator"
   ]
  },
  {
   "cell_type": "code",
   "execution_count": 164,
   "id": "544070cf",
   "metadata": {
    "scrolled": true
   },
   "outputs": [
    {
     "name": "stdout",
     "output_type": "stream",
     "text": [
      "There are 328 words in the combination of all cells in column Tweets.\n"
     ]
    },
    {
     "data": {
      "image/png": "[encoded data removed]",
      "text/plain": [
       "<Figure size 720x360 with 1 Axes>"
      ]
     },
     "metadata": {
      "needs_background": "light"
     },
     "output_type": "display_data"
    }
   ],
   "source": [
    "# Text of all words in column Tweets\n",
    "\n",
    "df_neg = df[df['polar_label']=='negative']\n",
    "\n",
    "text = \" \".join(review for review in df_neg.cleaned_comments.astype(str))\n",
    "print (\"There are {} words in the combination of all cells in column Tweets.\".format(len(text)))\n",
    "\n",
    "# Create stopword list:\n",
    "# remove words that we want to exclude\n",
    "\n",
    "stopwords = set(STOPWORDS)\n",
    "\n",
    "# Generate a word cloud image\n",
    "\n",
    "wordcloud = WordCloud(stopwords=stopwords, background_color=\"white\", width=800, height=400,colormap='Set1').generate(text)\n",
    "\n",
    "# Display the generated image:\n",
    "# the matplotlib way:\n",
    "\n",
    "fig=plt.figure(figsize=(10,5))\n",
    "plt.tight_layout(pad=0)\n",
    "plt.axis(\"off\")\n",
    "plt.imshow(wordcloud, interpolation='bilinear')\n",
    "plt.show()"
   ]
  },
  {
   "cell_type": "markdown",
   "id": "bdd2a49f",
   "metadata": {},
   "source": [
    "### Negative comments wordcloud"
   ]
  },
  {
   "cell_type": "code",
   "execution_count": 165,
   "id": "67453f9b",
   "metadata": {},
   "outputs": [
    {
     "name": "stdout",
     "output_type": "stream",
     "text": [
      "There are 274 words in the combination of all cells in column Tweets.\n"
     ]
    },
    {
     "data": {
      "image/png": "[encoded data removed]",
      "text/plain": [
       "<Figure size 720x360 with 1 Axes>"
      ]
     },
     "metadata": {
      "needs_background": "light"
     },
     "output_type": "display_data"
    }
   ],
   "source": [
    "# Text of all words in column Tweets\n",
    "\n",
    "df_neg = df[df['polar_label']=='positive']\n",
    "\n",
    "text = \" \".join(review for review in df_neg.cleaned_comments.astype(str))\n",
    "print (\"There are {} words in the combination of all cells in column Tweets.\".format(len(text)))\n",
    "\n",
    "# Create stopword list:\n",
    "# remove words that we want to exclude\n",
    "\n",
    "stopwords = set(STOPWORDS)\n",
    "\n",
    "# Generate a word cloud image\n",
    "\n",
    "wordcloud = WordCloud(stopwords=stopwords, background_color=\"white\", width=800, height=400,colormap='plasma').generate(text)\n",
    "\n",
    "# Display the generated image:\n",
    "# the matplotlib way:\n",
    "\n",
    "fig=plt.figure(figsize=(10,5))\n",
    "plt.tight_layout(pad=0)\n",
    "plt.axis(\"off\")\n",
    "plt.imshow(wordcloud, interpolation='bilinear')\n",
    "plt.show()"
   ]
  }
 ],
 "metadata": {
  "kernelspec": {
   "display_name": "Python 3",
   "language": "python",
   "name": "python3"
  },
  "language_info": {
   "codemirror_mode": {
    "name": "ipython",
    "version": 3
   },
   "file_extension": ".py",
   "mimetype": "text/x-python",
   "name": "python",
   "nbconvert_exporter": "python",
   "pygments_lexer": "ipython3",
   "version": "3.8.8"
  }
 },
 "nbformat": 4,
 "nbformat_minor": 5
}
