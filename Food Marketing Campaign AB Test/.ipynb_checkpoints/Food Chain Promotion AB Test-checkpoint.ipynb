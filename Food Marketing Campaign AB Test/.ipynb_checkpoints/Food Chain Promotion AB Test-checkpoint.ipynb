{
 "cells": [
  {
   "cell_type": "markdown",
   "id": "d1251cde",
   "metadata": {},
   "source": [
    "# Import dataset"
   ]
  },
  {
   "cell_type": "code",
   "execution_count": 3,
   "id": "34125eed",
   "metadata": {},
   "outputs": [],
   "source": [
    "import pandas as pd\n",
    "import numpy as np"
   ]
  },
  {
   "cell_type": "code",
   "execution_count": 4,
   "id": "6749e61c",
   "metadata": {},
   "outputs": [],
   "source": [
    "#read csv file\n",
    "df = pd.read_csv('Dataset\\WA_Marketing-Campaign.csv')"
   ]
  },
  {
   "cell_type": "code",
   "execution_count": 5,
   "id": "3d9def74",
   "metadata": {
    "scrolled": true
   },
   "outputs": [
    {
     "data": {
      "text/html": [
       "<div>\n",
       "<style scoped>\n",
       "    .dataframe tbody tr th:only-of-type {\n",
       "        vertical-align: middle;\n",
       "    }\n",
       "\n",
       "    .dataframe tbody tr th {\n",
       "        vertical-align: top;\n",
       "    }\n",
       "\n",
       "    .dataframe thead th {\n",
       "        text-align: right;\n",
       "    }\n",
       "</style>\n",
       "<table border=\"1\" class=\"dataframe\">\n",
       "  <thead>\n",
       "    <tr style=\"text-align: right;\">\n",
       "      <th></th>\n",
       "      <th>MarketID</th>\n",
       "      <th>MarketSize</th>\n",
       "      <th>LocationID</th>\n",
       "      <th>AgeOfStore</th>\n",
       "      <th>Promotion</th>\n",
       "      <th>week</th>\n",
       "      <th>SalesInThousands</th>\n",
       "    </tr>\n",
       "  </thead>\n",
       "  <tbody>\n",
       "    <tr>\n",
       "      <th>0</th>\n",
       "      <td>1</td>\n",
       "      <td>Medium</td>\n",
       "      <td>1</td>\n",
       "      <td>4</td>\n",
       "      <td>3</td>\n",
       "      <td>1</td>\n",
       "      <td>33.73</td>\n",
       "    </tr>\n",
       "    <tr>\n",
       "      <th>1</th>\n",
       "      <td>1</td>\n",
       "      <td>Medium</td>\n",
       "      <td>1</td>\n",
       "      <td>4</td>\n",
       "      <td>3</td>\n",
       "      <td>2</td>\n",
       "      <td>35.67</td>\n",
       "    </tr>\n",
       "    <tr>\n",
       "      <th>2</th>\n",
       "      <td>1</td>\n",
       "      <td>Medium</td>\n",
       "      <td>1</td>\n",
       "      <td>4</td>\n",
       "      <td>3</td>\n",
       "      <td>3</td>\n",
       "      <td>29.03</td>\n",
       "    </tr>\n",
       "    <tr>\n",
       "      <th>3</th>\n",
       "      <td>1</td>\n",
       "      <td>Medium</td>\n",
       "      <td>1</td>\n",
       "      <td>4</td>\n",
       "      <td>3</td>\n",
       "      <td>4</td>\n",
       "      <td>39.25</td>\n",
       "    </tr>\n",
       "    <tr>\n",
       "      <th>4</th>\n",
       "      <td>1</td>\n",
       "      <td>Medium</td>\n",
       "      <td>2</td>\n",
       "      <td>5</td>\n",
       "      <td>2</td>\n",
       "      <td>1</td>\n",
       "      <td>27.81</td>\n",
       "    </tr>\n",
       "  </tbody>\n",
       "</table>\n",
       "</div>"
      ],
      "text/plain": [
       "   MarketID MarketSize  LocationID  AgeOfStore  Promotion  week  \\\n",
       "0         1     Medium           1           4          3     1   \n",
       "1         1     Medium           1           4          3     2   \n",
       "2         1     Medium           1           4          3     3   \n",
       "3         1     Medium           1           4          3     4   \n",
       "4         1     Medium           2           5          2     1   \n",
       "\n",
       "   SalesInThousands  \n",
       "0             33.73  \n",
       "1             35.67  \n",
       "2             29.03  \n",
       "3             39.25  \n",
       "4             27.81  "
      ]
     },
     "execution_count": 5,
     "metadata": {},
     "output_type": "execute_result"
    }
   ],
   "source": [
    "#preview dataframe\n",
    "df.head()"
   ]
  },
  {
   "cell_type": "markdown",
   "id": "448a8773",
   "metadata": {},
   "source": [
    "# EDA"
   ]
  },
  {
   "cell_type": "markdown",
   "id": "17c09474",
   "metadata": {},
   "source": [
    "## Which promotion group makes the most sales?\n",
    "**Results:** From the chart we can see that the promotion done by Group 3 had the most aggregate sales amount which is 36%. All of the groups made roughly 1/3 of the total sales during the time of the promotion week."
   ]
  },
  {
   "cell_type": "code",
   "execution_count": 6,
   "id": "70c50765",
   "metadata": {},
   "outputs": [],
   "source": [
    "import matplotlib.pyplot as plt\n",
    "import matplotlib.patches as mpatches\n",
    "import matplotlib.ticker as mtick\n",
    "import seaborn as sns"
   ]
  },
  {
   "cell_type": "code",
   "execution_count": 7,
   "id": "25c328a4",
   "metadata": {},
   "outputs": [],
   "source": [
    "#default styling\n",
    "sns.set_theme(style=\"whitegrid\")\n",
    "p_distinct='Set1'"
   ]
  },
  {
   "cell_type": "code",
   "execution_count": 8,
   "id": "3694d575",
   "metadata": {},
   "outputs": [],
   "source": [
    "#group the data by promotion groups\n",
    "ts_g = df.groupby(['Promotion']).sum()"
   ]
  },
  {
   "cell_type": "code",
   "execution_count": 9,
   "id": "9f1f4356",
   "metadata": {},
   "outputs": [],
   "source": [
    "#reset the index\n",
    "ts_g.reset_index(inplace=True)"
   ]
  },
  {
   "cell_type": "code",
   "execution_count": 10,
   "id": "91d035a8",
   "metadata": {},
   "outputs": [],
   "source": [
    "#calculate overall sales percentage of each promotion group\n",
    "ts_g['Percentage'] = round((ts_g['SalesInThousands']/df['SalesInThousands'].sum())*100)"
   ]
  },
  {
   "cell_type": "code",
   "execution_count": 11,
   "id": "55136b89",
   "metadata": {},
   "outputs": [
    {
     "data": {
      "text/html": [
       "<div>\n",
       "<style scoped>\n",
       "    .dataframe tbody tr th:only-of-type {\n",
       "        vertical-align: middle;\n",
       "    }\n",
       "\n",
       "    .dataframe tbody tr th {\n",
       "        vertical-align: top;\n",
       "    }\n",
       "\n",
       "    .dataframe thead th {\n",
       "        text-align: right;\n",
       "    }\n",
       "</style>\n",
       "<table border=\"1\" class=\"dataframe\">\n",
       "  <thead>\n",
       "    <tr style=\"text-align: right;\">\n",
       "      <th></th>\n",
       "      <th>Promotion</th>\n",
       "      <th>MarketID</th>\n",
       "      <th>LocationID</th>\n",
       "      <th>AgeOfStore</th>\n",
       "      <th>week</th>\n",
       "      <th>SalesInThousands</th>\n",
       "      <th>Percentage</th>\n",
       "    </tr>\n",
       "  </thead>\n",
       "  <tbody>\n",
       "    <tr>\n",
       "      <th>0</th>\n",
       "      <td>1</td>\n",
       "      <td>996</td>\n",
       "      <td>84016</td>\n",
       "      <td>1424</td>\n",
       "      <td>430</td>\n",
       "      <td>9993.03</td>\n",
       "      <td>34.0</td>\n",
       "    </tr>\n",
       "    <tr>\n",
       "      <th>1</th>\n",
       "      <td>2</td>\n",
       "      <td>1108</td>\n",
       "      <td>93520</td>\n",
       "      <td>1500</td>\n",
       "      <td>470</td>\n",
       "      <td>8897.93</td>\n",
       "      <td>30.0</td>\n",
       "    </tr>\n",
       "    <tr>\n",
       "      <th>2</th>\n",
       "      <td>3</td>\n",
       "      <td>1028</td>\n",
       "      <td>85316</td>\n",
       "      <td>1736</td>\n",
       "      <td>470</td>\n",
       "      <td>10408.52</td>\n",
       "      <td>36.0</td>\n",
       "    </tr>\n",
       "  </tbody>\n",
       "</table>\n",
       "</div>"
      ],
      "text/plain": [
       "   Promotion  MarketID  LocationID  AgeOfStore  week  SalesInThousands  \\\n",
       "0          1       996       84016        1424   430           9993.03   \n",
       "1          2      1108       93520        1500   470           8897.93   \n",
       "2          3      1028       85316        1736   470          10408.52   \n",
       "\n",
       "   Percentage  \n",
       "0        34.0  \n",
       "1        30.0  \n",
       "2        36.0  "
      ]
     },
     "execution_count": 11,
     "metadata": {},
     "output_type": "execute_result"
    }
   ],
   "source": [
    "#preview data\n",
    "ts_g.head()"
   ]
  },
  {
   "cell_type": "code",
   "execution_count": 12,
   "id": "f7f056be",
   "metadata": {},
   "outputs": [
    {
     "data": {
      "image/png": "[encoded data removed]",
      "text/plain": [
       "<Figure size 1008x576 with 1 Axes>"
      ]
     },
     "metadata": {},
     "output_type": "display_data"
    }
   ],
   "source": [
    "#plot the data\n",
    "fig =plt.figure(figsize=(14,8))\n",
    "sns.barplot(x='Promotion',y='Percentage', data=ts_g,palette = p_distinct)\n",
    "plt.show()"
   ]
  },
  {
   "cell_type": "markdown",
   "id": "d8e6f7d2",
   "metadata": {},
   "source": [
    "## What are the main market size occupied the most by the promotion groups?\n",
    "**Results:** The stacked bar plot shows that the market size occupied the most by the promotion group is the medium market size which is over 55% by all promotion groups while the small market size being the least."
   ]
  },
  {
   "cell_type": "code",
   "execution_count": 13,
   "id": "72a73eb8",
   "metadata": {},
   "outputs": [
    {
     "data": {
      "image/png": "[encoded data removed]",
      "text/plain": [
       "<Figure size 1008x576 with 1 Axes>"
      ]
     },
     "metadata": {},
     "output_type": "display_data"
    }
   ],
   "source": [
    "contract_churn = df.groupby(['Promotion','MarketSize']).size().unstack()\n",
    "\n",
    "ax = (contract_churn.T*100.0 / contract_churn.T.sum())\\\n",
    ".T.plot(kind='bar',\n",
    "        width = 0.3,\n",
    "        stacked = True,\n",
    "        rot = 0, \n",
    "        figsize = (14,8),\n",
    "        #color=triple_color\n",
    "       )\n",
    "\n",
    "ax.yaxis.set_major_formatter(mtick.PercentFormatter())\n",
    "ax.legend(loc='best',prop={'size':10},title = 'Market size')\n",
    "ax.set_ylabel('% Occupied',size = 14)\n",
    "ax.set_title('Promotion group targeted market size',size = 14)\n",
    "\n",
    "# Code to add the data labels on the stacked bar chart\n",
    "for p in ax.patches:\n",
    "    width, height = p.get_width(), p.get_height()\n",
    "    x, y = p.get_xy() \n",
    "    ax.annotate('{:.0f}%'.format(height),\n",
    "                (p.get_x()+.25*width, p.get_y()+.4*height),\n",
    "                color = 'white',\n",
    "                weight = 'bold',\n",
    "                size = 14)\n",
    "plt.show()"
   ]
  },
  {
   "cell_type": "markdown",
   "id": "3d233321",
   "metadata": {},
   "source": [
    "## What are the age of the stores selected by the promotion group?\n",
    "**Results:** Most of the stores are 10 years old and below with most of the stores being 1 year old. The mean store age for all of the promotion groups are around 8-9 years old with the majority of the stores are 10-12 years old or younger."
   ]
  },
  {
   "cell_type": "code",
   "execution_count": 14,
   "id": "240bb1c1",
   "metadata": {},
   "outputs": [
    {
     "data": {
      "image/png": "[encoded data removed]",
      "text/plain": [
       "<Figure size 1008x360 with 1 Axes>"
      ]
     },
     "metadata": {},
     "output_type": "display_data"
    }
   ],
   "source": [
    "fig = plt.figure(figsize=(14,5))\n",
    "plt.title(\"Distribution of store age\")\n",
    "sns.countplot(x='AgeOfStore',data=df,hue='Promotion')\n",
    "plt.show()"
   ]
  },
  {
   "cell_type": "code",
   "execution_count": 15,
   "id": "33cd8a66",
   "metadata": {},
   "outputs": [
    {
     "name": "stderr",
     "output_type": "stream",
     "text": [
      "C:\\Users\\Haziq\\Anaconda3\\lib\\site-packages\\seaborn\\axisgrid.py:643: UserWarning: Using the countplot function without specifying `order` is likely to produce an incorrect plot.\n",
      "  warnings.warn(warning)\n"
     ]
    },
    {
     "data": {
      "image/png": "[encoded data removed]",
      "text/plain": [
       "<Figure size 1080x360 with 3 Axes>"
      ]
     },
     "metadata": {},
     "output_type": "display_data"
    }
   ],
   "source": [
    "d = {'color': ['r','g','b']}\n",
    "g = sns.FacetGrid(df, col=\"Promotion\",palette='mako',height=5, aspect=1,hue_kws=d, hue='Promotion')\n",
    "g.map(sns.countplot, \"AgeOfStore\",color='b')\n",
    "g.fig.subplots_adjust(top=0.8)\n",
    "g.fig.suptitle('Age of stores by promotion group')\n",
    "plt.show()"
   ]
  },
  {
   "cell_type": "code",
   "execution_count": 16,
   "id": "658bae5c",
   "metadata": {},
   "outputs": [
    {
     "name": "stdout",
     "output_type": "stream",
     "text": [
      "Promotion 1\n",
      "count    172.00000\n",
      "mean       8.27907\n",
      "std        6.63616\n",
      "min        1.00000\n",
      "25%        3.00000\n",
      "50%        6.00000\n",
      "75%       12.00000\n",
      "max       27.00000\n",
      "Name: AgeOfStore, dtype: float64\n",
      "\n",
      "\n",
      "Promotion 2\n",
      "count    188.000000\n",
      "mean       7.978723\n",
      "std        6.597648\n",
      "min        1.000000\n",
      "25%        3.000000\n",
      "50%        7.000000\n",
      "75%       10.000000\n",
      "max       28.000000\n",
      "Name: AgeOfStore, dtype: float64\n",
      "\n",
      "\n",
      "Promotion 3\n",
      "count    188.000000\n",
      "mean       9.234043\n",
      "std        6.651646\n",
      "min        1.000000\n",
      "25%        5.000000\n",
      "50%        8.000000\n",
      "75%       12.000000\n",
      "max       24.000000\n",
      "Name: AgeOfStore, dtype: float64\n",
      "\n",
      "\n"
     ]
    }
   ],
   "source": [
    "for i in df.Promotion.sort_values().unique():\n",
    "    print('Promotion '+ str(i))\n",
    "    print(df.AgeOfStore[df['Promotion']==i].describe())\n",
    "    print('\\n')"
   ]
  },
  {
   "cell_type": "markdown",
   "id": "bc69db8a",
   "metadata": {},
   "source": [
    "**Conclusion:** After prforming EDA on the datset's variables, we can verify that there are similarities in the sample group which makes the A/B testing results to be meaningful and trustworthy."
   ]
  },
  {
   "cell_type": "markdown",
   "id": "0ae5ba6a",
   "metadata": {},
   "source": [
    "# Hypothesis testing"
   ]
  },
  {
   "cell_type": "markdown",
   "id": "7039c730",
   "metadata": {},
   "source": [
    "For A/B testing, the T-test is commonly used. The t-test compares the two averages and determines whether or not they differ significantly.\n",
    "\n",
    "The t-value and the p-value are two important statistics in a t-test. The t-value indicates how much of a difference there is in comparison to the variation in the data. The greater the t-value, the greater the difference between two testing groups. The P-value indicates the likelihood that the result occurred by chance. As a result, the smaller the p-value, the greater the statistical significance of the difference between two testing groups.\n"
   ]
  },
  {
   "cell_type": "markdown",
   "id": "e5a6b3d2",
   "metadata": {},
   "source": [
    "##  t-value and p-value"
   ]
  },
  {
   "cell_type": "code",
   "execution_count": 31,
   "id": "54c2865a",
   "metadata": {},
   "outputs": [],
   "source": [
    "#get seperate sales value for each promotion group\n",
    "gp_1 = df.SalesInThousands[df['Promotion']==1]\n",
    "gp_2 = df.SalesInThousands[df['Promotion']==2]\n",
    "gp_3 = df.SalesInThousands[df['Promotion']==3]"
   ]
  },
  {
   "cell_type": "code",
   "execution_count": 32,
   "id": "d806a1a2",
   "metadata": {},
   "outputs": [],
   "source": [
    "#mean\n",
    "gp_1_mean = gp_1.mean()\n",
    "gp_2_mean = gp_2.mean()\n",
    "gp_3_mean = gp_3.mean()\n",
    "\n",
    "#standard deviation\n",
    "gp_1_std = gp_1.std()\n",
    "gp_2_std = gp_2.std()\n",
    "gp_3_std = gp_3.std()\n",
    "\n",
    "#number of samples\n",
    "gp_1_n = len(gp_1)\n",
    "gp_2_n = len(gp_2)\n",
    "gp_3_n = len(gp_3)"
   ]
  },
  {
   "cell_type": "code",
   "execution_count": 33,
   "id": "6c31168b",
   "metadata": {},
   "outputs": [],
   "source": [
    "# import math library\n",
    "import math as m"
   ]
  },
  {
   "cell_type": "code",
   "execution_count": 34,
   "id": "aea27aab",
   "metadata": {},
   "outputs": [],
   "source": [
    "#t-value comparing promotion 1 and promotion 2\n",
    "t_value_1_2 = (gp_1_mean -gp_2_mean)/m.sqrt((gp_1_std ** 2 / gp_1_n + gp_2_std ** 2/gp_2_n))"
   ]
  },
  {
   "cell_type": "code",
   "execution_count": 35,
   "id": "dc821d23",
   "metadata": {},
   "outputs": [],
   "source": [
    "#degree of freedom\n",
    "dfr_1_2 = gp_1_n +gp_2_n - 2 "
   ]
  },
  {
   "cell_type": "code",
   "execution_count": 36,
   "id": "2d577e17",
   "metadata": {
    "scrolled": true
   },
   "outputs": [],
   "source": [
    "import scipy.stats\n",
    "\n",
    "#find p-value for two-tailed test\n",
    "p_value_1_2 = scipy.stats.t.sf(abs(t_value_1_2), df=dfr_1_2)*2"
   ]
  },
  {
   "cell_type": "code",
   "execution_count": 37,
   "id": "11ccbd68",
   "metadata": {},
   "outputs": [
    {
     "name": "stdout",
     "output_type": "stream",
     "text": [
      "t-value: 6.427528670907475\n",
      "p-value: 4.1432972177085943e-10\n"
     ]
    }
   ],
   "source": [
    "print(\"t-value: \" + str(t_value_1_2))\n",
    "print(\"p-value: \" + str(p_value_1_2))"
   ]
  },
  {
   "cell_type": "markdown",
   "id": "f8acc614",
   "metadata": {},
   "source": [
    "We got the t-value of 6.4275 and p-value of 4.143e-10 (which is an extremely small number) that suggest that there is strong evidence against the null hypothesis and that the difference between Group 1 and Group 2 is significant. Therefore, Group 1 outperform Group 2."
   ]
  },
  {
   "cell_type": "code",
   "execution_count": 38,
   "id": "3e593782",
   "metadata": {},
   "outputs": [],
   "source": [
    "#t-value comparing promotion 1 and promotion 3\n",
    "t_value_1_3 = (gp_1_mean -gp_3_mean)/m.sqrt((gp_1_std ** 2 / gp_1_n + gp_3_std ** 2/gp_3_n))\n",
    "\n",
    "#degree of freedom\n",
    "dfr_1_3 = gp_1_n +gp_3_n - 2 "
   ]
  },
  {
   "cell_type": "code",
   "execution_count": 39,
   "id": "9e677f8c",
   "metadata": {},
   "outputs": [],
   "source": [
    "#find p-value for two-tailed test\n",
    "p_value_1_3 = scipy.stats.t.sf(abs(t_value_1_3), df=dfr_1_3)*2"
   ]
  },
  {
   "cell_type": "code",
   "execution_count": 40,
   "id": "ac1d541b",
   "metadata": {
    "scrolled": false
   },
   "outputs": [
    {
     "name": "stdout",
     "output_type": "stream",
     "text": [
      "t-value: 1.5560224307759114\n",
      "p-value: 0.12058631176433682\n"
     ]
    }
   ],
   "source": [
    "print(\"t-value: \" + str(t_value_1_3))\n",
    "print(\"p-value: \" + str(p_value_1_3))"
   ]
  },
  {
   "cell_type": "markdown",
   "id": "90b69092",
   "metadata": {},
   "source": [
    "Here we got the t-value of 1.5560 and the p-value of 0.1205 (which is much higher than 0.05). This result suggests that there is no statistically significant difference between Group 1 and Group 3 even though the average sales from promotion Group 1 (58.1) is higher than in Group 3 (55.36)."
   ]
  },
  {
   "cell_type": "code",
   "execution_count": 44,
   "id": "689d6a94",
   "metadata": {},
   "outputs": [
    {
     "name": "stdout",
     "output_type": "stream",
     "text": [
      "t-value for Group 1 and 2: 6.427528670907475\n",
      "p-value for Group 1 and 2: 4.1432972177085943e-10\n",
      "\n",
      "\n",
      "t-value for Group 1 and 3: 1.5560224307759114\n",
      "p-value for Group 1 and 3: 0.12058631176433682\n",
      "\n",
      "\n",
      "Group 1 Mean: 58.099011627907046\n",
      "Group 2 Mean: 47.329414893617084\n",
      "Group 3 Mean: 55.36446808510637\n"
     ]
    }
   ],
   "source": [
    "#printing t-value, p-value and means\n",
    "print(\"t-value for Group 1 and 2: \"+str(t_value_1_2))\n",
    "print(\"p-value for Group 1 and 2: \"+str(p_value_1_2))\n",
    "print(\"\\n\")\n",
    "print(\"t-value for Group 1 and 3: \"+str(t_value_1_3))\n",
    "print(\"p-value for Group 1 and 3: \"+str(p_value_1_3))\n",
    "print(\"\\n\")\n",
    "print(\"Group 1 Mean: \"+str(gp_1_mean))\n",
    "print(\"Group 2 Mean: \"+str(gp_2_mean))\n",
    "print(\"Group 3 Mean: \"+str(gp_3_mean))"
   ]
  },
  {
   "cell_type": "markdown",
   "id": "40ca0b89",
   "metadata": {},
   "source": [
    "**AB Test Results** : Without the A/B test, we can simply say  Group 1 and Group 3 perform better than Group 2 by looking at the average sales. However, the difference between Group 1 and Group 3 is not statistically significant. Therefore, the company can use either marketing strategies from Group 1 and Group 2 marketing strategies for their fast-food retail chain in order to maximize their sales."
   ]
  }
 ],
 "metadata": {
  "kernelspec": {
   "display_name": "Python 3",
   "language": "python",
   "name": "python3"
  },
  "language_info": {
   "codemirror_mode": {
    "name": "ipython",
    "version": 3
   },
   "file_extension": ".py",
   "mimetype": "text/x-python",
   "name": "python",
   "nbconvert_exporter": "python",
   "pygments_lexer": "ipython3",
   "version": "3.8.8"
  }
 },
 "nbformat": 4,
 "nbformat_minor": 5
}
